{
 "cells": [
  {
   "cell_type": "markdown",
   "id": "7b1d575b",
   "metadata": {},
   "source": [
    "# Wrangle and Analyze Data"
   ]
  },
  {
   "cell_type": "markdown",
   "id": "b5113945",
   "metadata": {},
   "source": [
    "Introduction"
   ]
  },
  {
   "cell_type": "markdown",
   "id": "6970661d",
   "metadata": {},
   "source": [
    "The project is about wrangling and analyzing the data of the tweet archive WeRateDog account. Using python we should gather the data from multiple sources to assess, clean, and visualize our insights. We will gather three different file formats using Request, Tweepy, and Pandas libraries. After gathering the data we should assess in terms of the quality and tidiness and make sure to clean the data before visualizing and reporting."
   ]
  },
  {
   "cell_type": "markdown",
   "id": "9b69008e",
   "metadata": {},
   "source": [
    "Project Steps:\n",
    "</br> 1. Gathering Data\n",
    "</br> 2. Assessing Data\n",
    "</br> 3. Cleaning Data\n",
    "</br> 4. Storing Data\n",
    "</br> 5. Analyzing and Visualizing\n",
    "</br> 6. Reporting"
   ]
  },
  {
   "cell_type": "markdown",
   "id": "d469cc0b",
   "metadata": {},
   "source": [
    "## Step 1: Gathering Data"
   ]
  },
  {
   "cell_type": "markdown",
   "id": "222dff2b",
   "metadata": {},
   "source": [
    "* import Libraries"
   ]
  },
  {
   "cell_type": "code",
   "execution_count": 1,
   "id": "a7f97f8a",
   "metadata": {},
   "outputs": [],
   "source": [
    "import os\n",
    "import pandas as pd\n",
    "import numpy as np\n",
    "import json\n",
    "import numpy as np\n",
    "import seaborn as sns\n",
    "import matplotlib.pyplot as plt\n",
    "%matplotlib inline\n",
    "import requests\n",
    "import tweepy\n",
    "from functools import reduce\n",
    "import functools as ft\n",
    "from tweepy import OAuthHandler\n",
    "from timeit import default_timer as timer"
   ]
  },
  {
   "cell_type": "markdown",
   "id": "e3d79003",
   "metadata": {},
   "source": [
    "    1) twitter-archive-enhanced"
   ]
  },
  {
   "cell_type": "code",
   "execution_count": 2,
   "id": "939c74e1",
   "metadata": {
    "scrolled": true
   },
   "outputs": [],
   "source": [
    "twitter_archive = pd.read_csv('twitter-archive-enhanced.csv')"
   ]
  },
  {
   "cell_type": "code",
   "execution_count": 3,
   "id": "25d887ab",
   "metadata": {},
   "outputs": [
    {
     "data": {
      "text/html": [
       "<div>\n",
       "<style scoped>\n",
       "    .dataframe tbody tr th:only-of-type {\n",
       "        vertical-align: middle;\n",
       "    }\n",
       "\n",
       "    .dataframe tbody tr th {\n",
       "        vertical-align: top;\n",
       "    }\n",
       "\n",
       "    .dataframe thead th {\n",
       "        text-align: right;\n",
       "    }\n",
       "</style>\n",
       "<table border=\"1\" class=\"dataframe\">\n",
       "  <thead>\n",
       "    <tr style=\"text-align: right;\">\n",
       "      <th></th>\n",
       "      <th>tweet_id</th>\n",
       "      <th>in_reply_to_status_id</th>\n",
       "      <th>in_reply_to_user_id</th>\n",
       "      <th>timestamp</th>\n",
       "      <th>source</th>\n",
       "      <th>text</th>\n",
       "      <th>retweeted_status_id</th>\n",
       "      <th>retweeted_status_user_id</th>\n",
       "      <th>retweeted_status_timestamp</th>\n",
       "      <th>expanded_urls</th>\n",
       "      <th>rating_numerator</th>\n",
       "      <th>rating_denominator</th>\n",
       "      <th>name</th>\n",
       "      <th>doggo</th>\n",
       "      <th>floofer</th>\n",
       "      <th>pupper</th>\n",
       "      <th>puppo</th>\n",
       "    </tr>\n",
       "  </thead>\n",
       "  <tbody>\n",
       "    <tr>\n",
       "      <th>0</th>\n",
       "      <td>892420643555336193</td>\n",
       "      <td>NaN</td>\n",
       "      <td>NaN</td>\n",
       "      <td>2017-08-01 16:23:56 +0000</td>\n",
       "      <td>&lt;a href=\"http://twitter.com/download/iphone\" r...</td>\n",
       "      <td>This is Phineas. He's a mystical boy. Only eve...</td>\n",
       "      <td>NaN</td>\n",
       "      <td>NaN</td>\n",
       "      <td>NaN</td>\n",
       "      <td>https://twitter.com/dog_rates/status/892420643...</td>\n",
       "      <td>13</td>\n",
       "      <td>10</td>\n",
       "      <td>Phineas</td>\n",
       "      <td>None</td>\n",
       "      <td>None</td>\n",
       "      <td>None</td>\n",
       "      <td>None</td>\n",
       "    </tr>\n",
       "  </tbody>\n",
       "</table>\n",
       "</div>"
      ],
      "text/plain": [
       "             tweet_id  in_reply_to_status_id  in_reply_to_user_id  \\\n",
       "0  892420643555336193                    NaN                  NaN   \n",
       "\n",
       "                   timestamp  \\\n",
       "0  2017-08-01 16:23:56 +0000   \n",
       "\n",
       "                                              source  \\\n",
       "0  <a href=\"http://twitter.com/download/iphone\" r...   \n",
       "\n",
       "                                                text  retweeted_status_id  \\\n",
       "0  This is Phineas. He's a mystical boy. Only eve...                  NaN   \n",
       "\n",
       "   retweeted_status_user_id retweeted_status_timestamp  \\\n",
       "0                       NaN                        NaN   \n",
       "\n",
       "                                       expanded_urls  rating_numerator  \\\n",
       "0  https://twitter.com/dog_rates/status/892420643...                13   \n",
       "\n",
       "   rating_denominator     name doggo floofer pupper puppo  \n",
       "0                  10  Phineas  None    None   None  None  "
      ]
     },
     "execution_count": 3,
     "metadata": {},
     "output_type": "execute_result"
    }
   ],
   "source": [
    "twitter_archive.head(1)"
   ]
  },
  {
   "cell_type": "markdown",
   "id": "d2566e19",
   "metadata": {},
   "source": [
    "    2) image-predictions"
   ]
  },
  {
   "cell_type": "code",
   "execution_count": 4,
   "id": "2c180521",
   "metadata": {},
   "outputs": [],
   "source": [
    "url = requests.get('https://d17h27t6h515a5.cloudfront.net/topher/2017/August/599fd2ad_image-predictions/image-predictions.tsv')\n",
    "\n",
    "with open('image-predictions.tsv', mode='wb') as file:\n",
    "    file.write(url.content)\n",
    "    \n",
    "image_predictions = pd.read_csv('image-predictions.tsv', sep='\\t')"
   ]
  },
  {
   "cell_type": "code",
   "execution_count": 5,
   "id": "cc16388e",
   "metadata": {},
   "outputs": [
    {
     "data": {
      "text/html": [
       "<div>\n",
       "<style scoped>\n",
       "    .dataframe tbody tr th:only-of-type {\n",
       "        vertical-align: middle;\n",
       "    }\n",
       "\n",
       "    .dataframe tbody tr th {\n",
       "        vertical-align: top;\n",
       "    }\n",
       "\n",
       "    .dataframe thead th {\n",
       "        text-align: right;\n",
       "    }\n",
       "</style>\n",
       "<table border=\"1\" class=\"dataframe\">\n",
       "  <thead>\n",
       "    <tr style=\"text-align: right;\">\n",
       "      <th></th>\n",
       "      <th>tweet_id</th>\n",
       "      <th>jpg_url</th>\n",
       "      <th>img_num</th>\n",
       "      <th>p1</th>\n",
       "      <th>p1_conf</th>\n",
       "      <th>p1_dog</th>\n",
       "      <th>p2</th>\n",
       "      <th>p2_conf</th>\n",
       "      <th>p2_dog</th>\n",
       "      <th>p3</th>\n",
       "      <th>p3_conf</th>\n",
       "      <th>p3_dog</th>\n",
       "    </tr>\n",
       "  </thead>\n",
       "  <tbody>\n",
       "    <tr>\n",
       "      <th>0</th>\n",
       "      <td>666020888022790149</td>\n",
       "      <td>https://pbs.twimg.com/media/CT4udn0WwAA0aMy.jpg</td>\n",
       "      <td>1</td>\n",
       "      <td>Welsh_springer_spaniel</td>\n",
       "      <td>0.465074</td>\n",
       "      <td>True</td>\n",
       "      <td>collie</td>\n",
       "      <td>0.156665</td>\n",
       "      <td>True</td>\n",
       "      <td>Shetland_sheepdog</td>\n",
       "      <td>0.061428</td>\n",
       "      <td>True</td>\n",
       "    </tr>\n",
       "  </tbody>\n",
       "</table>\n",
       "</div>"
      ],
      "text/plain": [
       "             tweet_id                                          jpg_url  \\\n",
       "0  666020888022790149  https://pbs.twimg.com/media/CT4udn0WwAA0aMy.jpg   \n",
       "\n",
       "   img_num                      p1   p1_conf  p1_dog      p2   p2_conf  \\\n",
       "0        1  Welsh_springer_spaniel  0.465074    True  collie  0.156665   \n",
       "\n",
       "   p2_dog                 p3   p3_conf  p3_dog  \n",
       "0    True  Shetland_sheepdog  0.061428    True  "
      ]
     },
     "execution_count": 5,
     "metadata": {},
     "output_type": "execute_result"
    }
   ],
   "source": [
    "image_predictions.head(1)"
   ]
  },
  {
   "cell_type": "markdown",
   "id": "3802529c",
   "metadata": {},
   "source": [
    "    3) tweet json"
   ]
  },
  {
   "cell_type": "code",
   "execution_count": 6,
   "id": "48bd5e47",
   "metadata": {},
   "outputs": [],
   "source": [
    "#consumer_key = 'HIDDEN'\n",
    "#consumer_secret = 'HIDDEN'\n",
    "#access_token = 'HIDDEN'\n",
    "#access_secret = 'HIDDEN'\n",
    "\n",
    "#auth = OAuthHandler(consumer_key, consumer_secret)\n",
    "#auth.set_access_token(access_token, access_secret)\n",
    "\n",
    "#api = tweepy.API(auth, wait_on_rate_limit=True)\n",
    "\n",
    "#tweet_ids = twitter_archive.tweet_id.values\n",
    "#len(tweet_ids)\n",
    "\n",
    "#count = 0\n",
    "#fails_dict = {}\n",
    "#start = timer()\n",
    "\n",
    "#with open('tweet_json.txt', 'w') as outfile:\n",
    "\n",
    "#    for tweet_id in tweet_ids:\n",
    "#        count += 1\n",
    "#        print(str(count) + \": \" + str(tweet_id))\n",
    "#        try:\n",
    "#            tweet = api.get_status(tweet_id, tweet_mode='extended')\n",
    "#            print(\"Success\")\n",
    "#           json.dump(tweet._json, outfile)\n",
    "#            outfile.write('\\n')\n",
    "#        except tweepy.TweepError as e:\n",
    "#            print(\"Fail\")\n",
    "#            fails_dict[tweet_id] = e\n",
    "#            pass\n",
    "#end = timer()\n",
    "#print(end - start)\n",
    "#print(fails_dict)"
   ]
  },
  {
   "cell_type": "code",
   "execution_count": 7,
   "id": "beb90ad6",
   "metadata": {},
   "outputs": [],
   "source": [
    "json_dict = []\n",
    "with open('tweet_json.txt') as f:\n",
    "    for line in f:\n",
    "        json_dict.append(json.loads(line))\n",
    "tweet_json = pd.DataFrame.from_dict(json_dict)"
   ]
  },
  {
   "cell_type": "code",
   "execution_count": 8,
   "id": "06d39774",
   "metadata": {},
   "outputs": [],
   "source": [
    "tweet_json = tweet_json[['id','retweet_count','favorite_count']]"
   ]
  },
  {
   "cell_type": "code",
   "execution_count": 9,
   "id": "0d921e2c",
   "metadata": {},
   "outputs": [
    {
     "data": {
      "text/html": [
       "<div>\n",
       "<style scoped>\n",
       "    .dataframe tbody tr th:only-of-type {\n",
       "        vertical-align: middle;\n",
       "    }\n",
       "\n",
       "    .dataframe tbody tr th {\n",
       "        vertical-align: top;\n",
       "    }\n",
       "\n",
       "    .dataframe thead th {\n",
       "        text-align: right;\n",
       "    }\n",
       "</style>\n",
       "<table border=\"1\" class=\"dataframe\">\n",
       "  <thead>\n",
       "    <tr style=\"text-align: right;\">\n",
       "      <th></th>\n",
       "      <th>id</th>\n",
       "      <th>retweet_count</th>\n",
       "      <th>favorite_count</th>\n",
       "    </tr>\n",
       "  </thead>\n",
       "  <tbody>\n",
       "    <tr>\n",
       "      <th>0</th>\n",
       "      <td>892420643555336193</td>\n",
       "      <td>8853</td>\n",
       "      <td>39467</td>\n",
       "    </tr>\n",
       "  </tbody>\n",
       "</table>\n",
       "</div>"
      ],
      "text/plain": [
       "                   id  retweet_count  favorite_count\n",
       "0  892420643555336193           8853           39467"
      ]
     },
     "execution_count": 9,
     "metadata": {},
     "output_type": "execute_result"
    }
   ],
   "source": [
    "tweet_json.head(1)"
   ]
  },
  {
   "cell_type": "markdown",
   "id": "5d8dc8e2",
   "metadata": {},
   "source": [
    "## Step 2: Assessing Data"
   ]
  },
  {
   "cell_type": "markdown",
   "id": "cde9ed12",
   "metadata": {},
   "source": [
    "#### 8 data quality Issues\n",
    "###### 1) Remove the unnecessary data:\n",
    "Removing retweets and replies from the dataset and select only three columns from JSON file.\n",
    "###### 2) Invalid Data Entry:\n",
    "* I found not working URLs and incorrect dog names.\n",
    "* There is an issue with the dog names, some of them are incorrect and consist of 1-3 lowercase letters.\n",
    "\n",
    "###### 3) Duplicate Data:\n",
    "I found duplicate data in both twitter_archive and image_predictions on the expanded_urls and jpg_url columns.\n",
    "###### 4) Outliers:\n",
    "I've noticed outliers in the rating_numerator after I visualize the column using a boxplot.\n",
    "###### 5) Data Type:\n",
    "I found issues with the Id int data type and the timestamp.\n",
    "###### 6) Column naming:\n",
    "id in JSON file should be tweet_id like the other files\n",
    "\n",
    "###### 7) Replace characters and change format\n",
    "* I've noticed that the values on the predictions columns are written with an underscore instead of using a space.\n",
    "* The urls that indicate the source \n",
    "\n",
    "###### 8) Missing/null\n",
    "Detect null values in twitter archive\n",
    "\n",
    "#### 2 data tidiness Issues\n",
    "\n",
    "##### 1) Merge data frames\n",
    "We should work with one dataset and merge the three files (twitter_archive, image_predictions, tweet_json)\n",
    "\n",
    "##### 2) Merge columns\n",
    "Its better to combine (doggo, floofer, pupper, puppo) columns into one (called Type column)"
   ]
  },
  {
   "cell_type": "markdown",
   "id": "42a8bb4a",
   "metadata": {},
   "source": [
    "### Quality Issues"
   ]
  },
  {
   "cell_type": "markdown",
   "id": "3b93fc44",
   "metadata": {},
   "source": [
    "##### 1) Remove the unnecessary data:\n",
    "Below are the columns that contain reply and retweet:\n",
    "* in_reply_to_status_id\n",
    "* in_reply_to_user_id\n",
    "* retweeted_status_id\n",
    "* retweeted_status_user_id\n",
    "* retweeted_status_timestamp"
   ]
  },
  {
   "cell_type": "code",
   "execution_count": 10,
   "id": "8f753a64",
   "metadata": {
    "scrolled": true
   },
   "outputs": [
    {
     "name": "stdout",
     "output_type": "stream",
     "text": [
      "<class 'pandas.core.frame.DataFrame'>\n",
      "RangeIndex: 2356 entries, 0 to 2355\n",
      "Data columns (total 17 columns):\n",
      " #   Column                      Non-Null Count  Dtype  \n",
      "---  ------                      --------------  -----  \n",
      " 0   tweet_id                    2356 non-null   int64  \n",
      " 1   in_reply_to_status_id       78 non-null     float64\n",
      " 2   in_reply_to_user_id         78 non-null     float64\n",
      " 3   timestamp                   2356 non-null   object \n",
      " 4   source                      2356 non-null   object \n",
      " 5   text                        2356 non-null   object \n",
      " 6   retweeted_status_id         181 non-null    float64\n",
      " 7   retweeted_status_user_id    181 non-null    float64\n",
      " 8   retweeted_status_timestamp  181 non-null    object \n",
      " 9   expanded_urls               2297 non-null   object \n",
      " 10  rating_numerator            2356 non-null   int64  \n",
      " 11  rating_denominator          2356 non-null   int64  \n",
      " 12  name                        2356 non-null   object \n",
      " 13  doggo                       2356 non-null   object \n",
      " 14  floofer                     2356 non-null   object \n",
      " 15  pupper                      2356 non-null   object \n",
      " 16  puppo                       2356 non-null   object \n",
      "dtypes: float64(4), int64(3), object(10)\n",
      "memory usage: 313.0+ KB\n"
     ]
    }
   ],
   "source": [
    "#count null values\n",
    "twitter_archive.info()"
   ]
  },
  {
   "cell_type": "markdown",
   "id": "56a563cc",
   "metadata": {},
   "source": [
    "##### 2) Invalid Data Entry:\n",
    "- I found some of the urls are not working https://twitter.com/dog_rates/status/783839966405230592/photo/1,https://twitter.com/dog_rates/status/783839966405230592/photo/1,https://twitter.com/dog_rates/status/783839966405230592/photo/1  \n",
    "https://twitter.com/dog_rates/status/774314403806253056/photo/1,https://twitter.com/dog_rates/status/774314403806253056/photo/1,https://twitter.com/dog_rates/status/774314403806253056/photo/1,https://twitter.com/dog_rates/status/774314403806253056/photo/1 https://twitter.com/dog_rates/status/764259802650378240/photo/1,https://twitter.com/dog_rates/status/764259802650378240/photo/1\n",
    "\n",
    "- There is an issue with the dog names, some of them are incorrect and consist of 1-3 lower case letters."
   ]
  },
  {
   "cell_type": "code",
   "execution_count": 11,
   "id": "071dbecc",
   "metadata": {
    "scrolled": false
   },
   "outputs": [
    {
     "data": {
      "text/plain": [
       "https://twitter.com/dog_rates/status/667152164079423490/photo/1                                                                                                                                                                                                    2\n",
       "https://twitter.com/dog_rates/status/718631497683582976/photo/1                                                                                                                                                                                                    2\n",
       "https://twitter.com/dog_rates/status/783839966405230592/photo/1,https://twitter.com/dog_rates/status/783839966405230592/photo/1,https://twitter.com/dog_rates/status/783839966405230592/photo/1                                                                    2\n",
       "https://twitter.com/dog_rates/status/774314403806253056/photo/1,https://twitter.com/dog_rates/status/774314403806253056/photo/1,https://twitter.com/dog_rates/status/774314403806253056/photo/1,https://twitter.com/dog_rates/status/774314403806253056/photo/1    2\n",
       "https://twitter.com/dog_rates/status/781524693396357120/photo/1                                                                                                                                                                                                    2\n",
       "                                                                                                                                                                                                                                                                  ..\n",
       "https://twitter.com/dog_rates/status/763837565564780549/photo/1                                                                                                                                                                                                    1\n",
       "https://twitter.com/dog_rates/status/764259802650378240/photo/1,https://twitter.com/dog_rates/status/764259802650378240/photo/1                                                                                                                                    1\n",
       "https://twitter.com/dog_rates/status/764857477905154048/photo/1                                                                                                                                                                                                    1\n",
       "https://twitter.com/dog_rates/status/765222098633691136/photo/1                                                                                                                                                                                                    1\n",
       "https://twitter.com/dog_rates/status/666020888022790149/photo/1                                                                                                                                                                                                    1\n",
       "Name: expanded_urls, Length: 2218, dtype: int64"
      ]
     },
     "execution_count": 11,
     "metadata": {},
     "output_type": "execute_result"
    }
   ],
   "source": [
    "twitter_archive['expanded_urls'].value_counts()"
   ]
  },
  {
   "cell_type": "code",
   "execution_count": 12,
   "id": "e821ad2a",
   "metadata": {},
   "outputs": [
    {
     "data": {
      "text/plain": [
       "5       None\n",
       "7       None\n",
       "12      None\n",
       "24      None\n",
       "25      None\n",
       "        ... \n",
       "2351    None\n",
       "2352       a\n",
       "2353       a\n",
       "2354       a\n",
       "2355    None\n",
       "Name: name, Length: 824, dtype: object"
      ]
     },
     "execution_count": 12,
     "metadata": {},
     "output_type": "execute_result"
    }
   ],
   "source": [
    "twitter_archive[twitter_archive['name'].apply(lambda x: str(x)=='None' or len(str(x)) < 3)]['name']"
   ]
  },
  {
   "cell_type": "markdown",
   "id": "5a59630f",
   "metadata": {},
   "source": [
    "##### 3) Duplicate Data:\n",
    "I found duplicate data in both twitter_archive and image_predictions on the expanded_urls and jpg_url columns"
   ]
  },
  {
   "cell_type": "code",
   "execution_count": 13,
   "id": "c3f75551",
   "metadata": {},
   "outputs": [
    {
     "data": {
      "text/plain": [
       "137"
      ]
     },
     "execution_count": 13,
     "metadata": {},
     "output_type": "execute_result"
    }
   ],
   "source": [
    "twitter_archive['expanded_urls'].duplicated().sum()"
   ]
  },
  {
   "cell_type": "code",
   "execution_count": 14,
   "id": "d6fe1424",
   "metadata": {
    "scrolled": true
   },
   "outputs": [
    {
     "data": {
      "text/plain": [
       "66"
      ]
     },
     "execution_count": 14,
     "metadata": {},
     "output_type": "execute_result"
    }
   ],
   "source": [
    "image_predictions['jpg_url'].duplicated().sum()"
   ]
  },
  {
   "cell_type": "markdown",
   "id": "178a6fe4",
   "metadata": {},
   "source": [
    "##### 4) Outliers:\n",
    "I've noticed outliers in the rating_numerator after I visualize the column using a boxplot."
   ]
  },
  {
   "cell_type": "code",
   "execution_count": 15,
   "id": "35ed95eb",
   "metadata": {
    "scrolled": true
   },
   "outputs": [
    {
     "data": {
      "image/png": "[encoded data removed]",
      "text/plain": [
       "<Figure size 1800x360 with 1 Axes>"
      ]
     },
     "metadata": {
      "needs_background": "light"
     },
     "output_type": "display_data"
    }
   ],
   "source": [
    "fig = plt.figure(figsize = (25, 5))\n",
    "\n",
    "plt.boxplot(twitter_archive['rating_numerator'],vert=False)\n",
    "\n",
    "plt.show()"
   ]
  },
  {
   "cell_type": "markdown",
   "id": "d67b9200",
   "metadata": {},
   "source": [
    "##### 5) Data Type:\n",
    "I found issues with the Id int data type and the timestamp"
   ]
  },
  {
   "cell_type": "code",
   "execution_count": 16,
   "id": "a07c8490",
   "metadata": {},
   "outputs": [
    {
     "data": {
      "text/plain": [
       "dtype('int64')"
      ]
     },
     "execution_count": 16,
     "metadata": {},
     "output_type": "execute_result"
    }
   ],
   "source": [
    "np.dtype(twitter_archive['tweet_id'])"
   ]
  },
  {
   "cell_type": "code",
   "execution_count": 17,
   "id": "ed00dacc",
   "metadata": {},
   "outputs": [
    {
     "data": {
      "text/plain": [
       "dtype('int64')"
      ]
     },
     "execution_count": 17,
     "metadata": {},
     "output_type": "execute_result"
    }
   ],
   "source": [
    "np.dtype(image_predictions['tweet_id'])"
   ]
  },
  {
   "cell_type": "code",
   "execution_count": 18,
   "id": "9a017fc8",
   "metadata": {},
   "outputs": [
    {
     "data": {
      "text/plain": [
       "dtype('int64')"
      ]
     },
     "execution_count": 18,
     "metadata": {},
     "output_type": "execute_result"
    }
   ],
   "source": [
    "np.dtype(tweet_json['id'])"
   ]
  },
  {
   "cell_type": "code",
   "execution_count": 19,
   "id": "8d8e745f",
   "metadata": {},
   "outputs": [
    {
     "data": {
      "text/plain": [
       "dtype('O')"
      ]
     },
     "execution_count": 19,
     "metadata": {},
     "output_type": "execute_result"
    }
   ],
   "source": [
    "np.dtype(twitter_archive['timestamp'])"
   ]
  },
  {
   "cell_type": "markdown",
   "id": "ca0550f9",
   "metadata": {},
   "source": [
    "##### 6) Column naming:\n",
    "id in JSON file should be tweet_id like the other files"
   ]
  },
  {
   "cell_type": "code",
   "execution_count": 20,
   "id": "7a5666b0",
   "metadata": {},
   "outputs": [
    {
     "data": {
      "text/plain": [
       "Index(['id', 'retweet_count', 'favorite_count'], dtype='object')"
      ]
     },
     "execution_count": 20,
     "metadata": {},
     "output_type": "execute_result"
    }
   ],
   "source": [
    "tweet_json.columns"
   ]
  },
  {
   "cell_type": "markdown",
   "id": "b8248c99",
   "metadata": {},
   "source": [
    "###### 7) Replace characters and change format\n",
    "* I've noticed that the values on the predictions columns are written with an underscore instead of using a space.\n",
    "* The urls of the source column"
   ]
  },
  {
   "cell_type": "code",
   "execution_count": 21,
   "id": "4d9719ec",
   "metadata": {
    "scrolled": false
   },
   "outputs": [
    {
     "data": {
      "text/plain": [
       "array(['Welsh_springer_spaniel', 'redbone', 'German_shepherd',\n",
       "       'Rhodesian_ridgeback', 'miniature_pinscher',\n",
       "       'Bernese_mountain_dog', 'box_turtle', 'chow', 'shopping_cart',\n",
       "       'miniature_poodle', 'golden_retriever', 'Gordon_setter',\n",
       "       'Walker_hound', 'pug', 'bloodhound', 'Lhasa', 'English_setter',\n",
       "       'hen', 'desktop_computer', 'Italian_greyhound', 'Maltese_dog',\n",
       "       'three-toed_sloth', 'ox', 'malamute', 'guinea_pig',\n",
       "       'soft-coated_wheaten_terrier', 'Chihuahua',\n",
       "       'black-and-tan_coonhound', 'coho', 'toy_terrier',\n",
       "       'Blenheim_spaniel', 'Pembroke', 'llama',\n",
       "       'Chesapeake_Bay_retriever', 'curly-coated_retriever', 'dalmatian',\n",
       "       'Ibizan_hound', 'Border_collie', 'Labrador_retriever', 'seat_belt',\n",
       "       'snail', 'miniature_schnauzer', 'Airedale', 'triceratops', 'swab',\n",
       "       'hay', 'hyena', 'jigsaw_puzzle', 'West_Highland_white_terrier',\n",
       "       'toy_poodle', 'giant_schnauzer', 'vizsla', 'vacuum', 'Rottweiler',\n",
       "       'Siberian_husky', 'teddy', 'papillon', 'Saint_Bernard',\n",
       "       'porcupine', 'goose', 'Tibetan_terrier', 'borzoi', 'beagle',\n",
       "       'hare', 'Yorkshire_terrier', 'Pomeranian', 'electric_fan',\n",
       "       'web_site', 'ibex', 'kuvasz', 'fire_engine', 'lorikeet',\n",
       "       'flat-coated_retriever', 'toyshop', 'common_iguana',\n",
       "       'Norwegian_elkhound', 'frilled_lizard', 'leatherback_turtle',\n",
       "       'hamster', 'Angora', 'Arctic_fox', 'trombone', 'canoe',\n",
       "       'king_penguin', 'shopping_basket', 'standard_poodle',\n",
       "       'Staffordshire_bullterrier', 'basenji', 'Lakeland_terrier',\n",
       "       'American_Staffordshire_terrier', 'bearskin', 'Shih-Tzu',\n",
       "       'bustard', 'crash_helmet', 'French_bulldog', 'Pekinese',\n",
       "       'komondor', 'ski_mask', 'malinois', 'kelpie', 'Brittany_spaniel',\n",
       "       'cocker_spaniel', 'shower_curtain', 'basset', 'jellyfish',\n",
       "       'doormat', 'Arabian_camel', 'lynx', 'hog', 'comic_book', 'minivan',\n",
       "       'seashore', 'cuirass', 'Brabancon_griffon', 'candle', 'Eskimo_dog',\n",
       "       'weasel', 'Christmas_stocking', 'washbasin', 'car_mirror',\n",
       "       'piggy_bank', 'pot', 'boathouse', 'mud_turtle',\n",
       "       'German_short-haired_pointer', 'Shetland_sheepdog',\n",
       "       'Irish_terrier', 'cairn', 'platypus', 'English_springer',\n",
       "       'whippet', 'ping-pong_ball', 'sea_urchin', 'bow_tie',\n",
       "       'window_shade', \"jack-o'-lantern\", 'sorrel', 'Sussex_spaniel',\n",
       "       'peacock', 'axolotl', 'wool', 'banana', 'Dandie_Dinmont',\n",
       "       'Norwich_terrier', 'wood_rabbit', 'dhole', 'keeshond',\n",
       "       'Norfolk_terrier', 'lacewing', 'dingo', 'brown_bear',\n",
       "       'Old_English_sheepdog', 'scorpion', 'flamingo', 'microphone',\n",
       "       'Samoyed', 'pitcher', 'African_hunting_dog', 'refrigerator',\n",
       "       'picket_fence', 'tub', 'zebra', 'hermit_crab', 'swing', 'Doberman',\n",
       "       'park_bench', 'feather_boa', 'Loafer', 'stone_wall', 'ice_bear',\n",
       "       'prayer_rug', 'chimpanzee', 'china_cabinet', 'bee_eater',\n",
       "       'tennis_ball', 'carton', 'killer_whale', 'ostrich', 'terrapin',\n",
       "       'Siamese_cat', 'gondola', 'Great_Pyrenees', 'microwave',\n",
       "       'starfish', 'sandbar', 'tusker', 'motor_scooter', 'ram',\n",
       "       'leaf_beetle', 'wombat', 'schipperke', 'Newfoundland',\n",
       "       'bull_mastiff', 'water_bottle', 'suit', 'toilet_seat', 'collie',\n",
       "       'robin', 'Cardigan', 'Greater_Swiss_Mountain_dog', 'slug',\n",
       "       'toilet_tissue', 'acorn_squash', 'soccer_ball',\n",
       "       'African_crocodile', 'tick', 'ocarina', 'boxer', 'street_sign',\n",
       "       'bow', 'stove', 'paper_towel', 'upright', 'dough',\n",
       "       'Scottish_deerhound', 'bath_towel', 'standard_schnauzer',\n",
       "       'walking_stick', 'Irish_water_spaniel', 'bubble', 'Boston_bull',\n",
       "       'book_jacket', 'rain_barrel', 'black-footed_ferret', 'guenon',\n",
       "       'Japanese_spaniel', 'water_buffalo', 'patio', 'cowboy_hat',\n",
       "       'dogsled', 'maze', 'harp', 'panpipe', 'cash_machine', 'mailbox',\n",
       "       'wallaby', 'EntleBucher', 'earthstar', 'pillow', 'bluetick',\n",
       "       'space_heater', 'carousel', 'Irish_setter', 'birdhouse', 'snorkel',\n",
       "       'bald_eagle', 'koala', 'Leonberg', 'cheetah', 'minibus',\n",
       "       'Weimaraner', 'clog', 'dishwasher', 'white_wolf', 'sliding_door',\n",
       "       'damselfly', 'Great_Dane', 'Tibetan_mastiff', 'cheeseburger',\n",
       "       'fiddler_crab', 'bannister', 'crane', 'Scotch_terrier',\n",
       "       'snowmobile', 'badger', 'bighorn', 'geyser', 'barrow', 'bison',\n",
       "       'Mexican_hairless', 'ice_lolly', 'sea_lion', 'dining_table',\n",
       "       'groenendael', 'Australian_terrier', 'beaver', 'briard',\n",
       "       'Appenzeller', 'grey_fox', 'mousetrap', 'hippopotamus',\n",
       "       'Border_terrier', 'hummingbird', 'tailed_frog', 'otter',\n",
       "       'Egyptian_cat', 'four-poster', 'wild_boar', 'bathtub', 'agama',\n",
       "       'muzzle', 'hotdog', 'bib', 'espresso', 'timber_wolf', 'meerkat',\n",
       "       'nail', 'hammer', 'home_theater', 'alp', 'bonnet', 'handkerchief',\n",
       "       'hand_blower', 'polecat', 'lakeside', 'studio_couch', 'cup',\n",
       "       'cliff', 'Bedlington_terrier', 'lawn_mower', 'balloon',\n",
       "       'sunglasses', 'rapeseed', 'traffic_light', 'coil', 'binoculars',\n",
       "       'paddle', 'tiger_shark', 'sulphur-crested_cockatoo',\n",
       "       'wire-haired_fox_terrier', 'Saluki', 'American_black_bear',\n",
       "       'rotisserie', 'conch', 'skunk', 'bookshop', 'radio_telescope',\n",
       "       'cougar', 'African_grey', 'coral_reef', 'lion', 'maillot',\n",
       "       'Madagascar_cat', 'tabby', 'silky_terrier', 'giant_panda',\n",
       "       'long-horned_beetle', 'Afghan_hound', 'clumber', 'sundial',\n",
       "       'padlock', 'pool_table', 'quilt', 'beach_wagon', 'remote_control',\n",
       "       'bakery', 'pedestal', 'gas_pump', 'bookcase', 'shield', 'loupe',\n",
       "       'restaurant', 'prison', 'school_bus', 'cowboy_boot', 'jersey',\n",
       "       'wooden_spoon', 'leopard', 'mortarboard', 'teapot',\n",
       "       'military_uniform', 'washer', 'coffee_mug', 'fountain',\n",
       "       'pencil_box', 'barbell', 'grille', 'revolver', 'envelope',\n",
       "       'syringe', 'marmot', 'pole', 'laptop', 'basketball', 'tricycle',\n",
       "       'convertible', 'limousine', 'orange'], dtype=object)"
      ]
     },
     "execution_count": 21,
     "metadata": {},
     "output_type": "execute_result"
    }
   ],
   "source": [
    "image_predictions['p1'].unique()"
   ]
  },
  {
   "cell_type": "code",
   "execution_count": 22,
   "id": "1d56bbbf",
   "metadata": {
    "scrolled": false
   },
   "outputs": [
    {
     "data": {
      "text/plain": [
       "0       <a href=\"http://twitter.com/download/iphone\" r...\n",
       "1       <a href=\"http://twitter.com/download/iphone\" r...\n",
       "2       <a href=\"http://twitter.com/download/iphone\" r...\n",
       "3       <a href=\"http://twitter.com/download/iphone\" r...\n",
       "4       <a href=\"http://twitter.com/download/iphone\" r...\n",
       "                              ...                        \n",
       "2351    <a href=\"http://twitter.com/download/iphone\" r...\n",
       "2352    <a href=\"http://twitter.com/download/iphone\" r...\n",
       "2353    <a href=\"http://twitter.com/download/iphone\" r...\n",
       "2354    <a href=\"http://twitter.com/download/iphone\" r...\n",
       "2355    <a href=\"http://twitter.com/download/iphone\" r...\n",
       "Name: source, Length: 2356, dtype: object"
      ]
     },
     "execution_count": 22,
     "metadata": {},
     "output_type": "execute_result"
    }
   ],
   "source": [
    "twitter_archive['source']"
   ]
  },
  {
   "cell_type": "markdown",
   "id": "2c750dde",
   "metadata": {},
   "source": [
    "###### 8) Missing/null\n",
    "Detect null values in twitter archive"
   ]
  },
  {
   "cell_type": "code",
   "execution_count": 23,
   "id": "812eb084",
   "metadata": {},
   "outputs": [
    {
     "data": {
      "text/plain": [
       "True"
      ]
     },
     "execution_count": 23,
     "metadata": {},
     "output_type": "execute_result"
    }
   ],
   "source": [
    "twitter_archive.isnull().values.any()"
   ]
  },
  {
   "cell_type": "markdown",
   "id": "d27dd9ec",
   "metadata": {},
   "source": [
    "### Tidiness Issues"
   ]
  },
  {
   "cell_type": "markdown",
   "id": "d82959ad",
   "metadata": {},
   "source": [
    "##### 1) Merge data frames\n",
    "We should work with one dataset and merge the three files (twitter_archive, image_predictions, tweet_json)"
   ]
  },
  {
   "cell_type": "markdown",
   "id": "02bbd205",
   "metadata": {},
   "source": [
    "##### 2) Merge columns\n",
    "Its better to combine (doggo, floofer, pupper, puppo) columns into one (called Type column)"
   ]
  },
  {
   "cell_type": "markdown",
   "id": "1497b44a",
   "metadata": {},
   "source": [
    "## Step 3: Cleaning Data"
   ]
  },
  {
   "cell_type": "markdown",
   "id": "7099b0c0",
   "metadata": {},
   "source": [
    "##### Copy the dataframes before cleaning"
   ]
  },
  {
   "cell_type": "code",
   "execution_count": 24,
   "id": "4a49b886",
   "metadata": {},
   "outputs": [],
   "source": [
    "twitter_archive_clean = twitter_archive.copy()"
   ]
  },
  {
   "cell_type": "code",
   "execution_count": 25,
   "id": "aa63ee1a",
   "metadata": {},
   "outputs": [],
   "source": [
    "image_predictions_clean = image_predictions.copy()"
   ]
  },
  {
   "cell_type": "code",
   "execution_count": 26,
   "id": "11783096",
   "metadata": {},
   "outputs": [],
   "source": [
    "tweet_json_clean = tweet_json.copy()"
   ]
  },
  {
   "cell_type": "markdown",
   "id": "b01ba063",
   "metadata": {},
   "source": [
    "### Quality Issues"
   ]
  },
  {
   "cell_type": "markdown",
   "id": "7dc347c8",
   "metadata": {},
   "source": [
    "#### Issue 1:"
   ]
  },
  {
   "cell_type": "markdown",
   "id": "6a86e4c5",
   "metadata": {},
   "source": [
    "##### Define"
   ]
  },
  {
   "cell_type": "markdown",
   "id": "5665b664",
   "metadata": {},
   "source": [
    "1) Remove the unnecessary data:\n",
    "I removed retweets and replies from the dataset and RT@ to keep only original tweets."
   ]
  },
  {
   "cell_type": "markdown",
   "id": "168eaf7f",
   "metadata": {},
   "source": [
    "##### Code"
   ]
  },
  {
   "cell_type": "code",
   "execution_count": 27,
   "id": "ac09cbcd",
   "metadata": {},
   "outputs": [],
   "source": [
    "twitter_archive_clean = twitter_archive_clean[twitter_archive_clean['text'].str.contains(\"RT\") == False]\n"
   ]
  },
  {
   "cell_type": "markdown",
   "id": "1feafa8f",
   "metadata": {},
   "source": [
    "##### Test"
   ]
  },
  {
   "cell_type": "code",
   "execution_count": 28,
   "id": "4b1c07fe",
   "metadata": {},
   "outputs": [
    {
     "data": {
      "text/html": [
       "<div>\n",
       "<style scoped>\n",
       "    .dataframe tbody tr th:only-of-type {\n",
       "        vertical-align: middle;\n",
       "    }\n",
       "\n",
       "    .dataframe tbody tr th {\n",
       "        vertical-align: top;\n",
       "    }\n",
       "\n",
       "    .dataframe thead th {\n",
       "        text-align: right;\n",
       "    }\n",
       "</style>\n",
       "<table border=\"1\" class=\"dataframe\">\n",
       "  <thead>\n",
       "    <tr style=\"text-align: right;\">\n",
       "      <th></th>\n",
       "      <th>tweet_id</th>\n",
       "      <th>in_reply_to_status_id</th>\n",
       "      <th>in_reply_to_user_id</th>\n",
       "      <th>timestamp</th>\n",
       "      <th>source</th>\n",
       "      <th>text</th>\n",
       "      <th>retweeted_status_id</th>\n",
       "      <th>retweeted_status_user_id</th>\n",
       "      <th>retweeted_status_timestamp</th>\n",
       "      <th>expanded_urls</th>\n",
       "      <th>rating_numerator</th>\n",
       "      <th>rating_denominator</th>\n",
       "      <th>name</th>\n",
       "      <th>doggo</th>\n",
       "      <th>floofer</th>\n",
       "      <th>pupper</th>\n",
       "      <th>puppo</th>\n",
       "    </tr>\n",
       "  </thead>\n",
       "  <tbody>\n",
       "  </tbody>\n",
       "</table>\n",
       "</div>"
      ],
      "text/plain": [
       "Empty DataFrame\n",
       "Columns: [tweet_id, in_reply_to_status_id, in_reply_to_user_id, timestamp, source, text, retweeted_status_id, retweeted_status_user_id, retweeted_status_timestamp, expanded_urls, rating_numerator, rating_denominator, name, doggo, floofer, pupper, puppo]\n",
       "Index: []"
      ]
     },
     "execution_count": 28,
     "metadata": {},
     "output_type": "execute_result"
    }
   ],
   "source": [
    "twitter_archive_clean[twitter_archive_clean['text'].str.contains(\"RT\") == True]"
   ]
  },
  {
   "cell_type": "markdown",
   "id": "56c2c300",
   "metadata": {},
   "source": [
    "##### Code"
   ]
  },
  {
   "cell_type": "code",
   "execution_count": 29,
   "id": "1d8408c9",
   "metadata": {},
   "outputs": [],
   "source": [
    "twitter_archive_clean = twitter_archive_clean.drop(['in_reply_to_status_id', 'in_reply_to_user_id','retweeted_status_id',\n",
    "                            'retweeted_status_user_id','retweeted_status_timestamp'], axis=1)"
   ]
  },
  {
   "cell_type": "markdown",
   "id": "d03899c0",
   "metadata": {},
   "source": [
    "###### Test"
   ]
  },
  {
   "cell_type": "code",
   "execution_count": 30,
   "id": "ee91513e",
   "metadata": {},
   "outputs": [
    {
     "data": {
      "text/html": [
       "<div>\n",
       "<style scoped>\n",
       "    .dataframe tbody tr th:only-of-type {\n",
       "        vertical-align: middle;\n",
       "    }\n",
       "\n",
       "    .dataframe tbody tr th {\n",
       "        vertical-align: top;\n",
       "    }\n",
       "\n",
       "    .dataframe thead th {\n",
       "        text-align: right;\n",
       "    }\n",
       "</style>\n",
       "<table border=\"1\" class=\"dataframe\">\n",
       "  <thead>\n",
       "    <tr style=\"text-align: right;\">\n",
       "      <th></th>\n",
       "      <th>tweet_id</th>\n",
       "      <th>timestamp</th>\n",
       "      <th>source</th>\n",
       "      <th>text</th>\n",
       "      <th>expanded_urls</th>\n",
       "      <th>rating_numerator</th>\n",
       "      <th>rating_denominator</th>\n",
       "      <th>name</th>\n",
       "      <th>doggo</th>\n",
       "      <th>floofer</th>\n",
       "      <th>pupper</th>\n",
       "      <th>puppo</th>\n",
       "    </tr>\n",
       "  </thead>\n",
       "  <tbody>\n",
       "    <tr>\n",
       "      <th>0</th>\n",
       "      <td>892420643555336193</td>\n",
       "      <td>2017-08-01 16:23:56 +0000</td>\n",
       "      <td>&lt;a href=\"http://twitter.com/download/iphone\" r...</td>\n",
       "      <td>This is Phineas. He's a mystical boy. Only eve...</td>\n",
       "      <td>https://twitter.com/dog_rates/status/892420643...</td>\n",
       "      <td>13</td>\n",
       "      <td>10</td>\n",
       "      <td>Phineas</td>\n",
       "      <td>None</td>\n",
       "      <td>None</td>\n",
       "      <td>None</td>\n",
       "      <td>None</td>\n",
       "    </tr>\n",
       "    <tr>\n",
       "      <th>1</th>\n",
       "      <td>892177421306343426</td>\n",
       "      <td>2017-08-01 00:17:27 +0000</td>\n",
       "      <td>&lt;a href=\"http://twitter.com/download/iphone\" r...</td>\n",
       "      <td>This is Tilly. She's just checking pup on you....</td>\n",
       "      <td>https://twitter.com/dog_rates/status/892177421...</td>\n",
       "      <td>13</td>\n",
       "      <td>10</td>\n",
       "      <td>Tilly</td>\n",
       "      <td>None</td>\n",
       "      <td>None</td>\n",
       "      <td>None</td>\n",
       "      <td>None</td>\n",
       "    </tr>\n",
       "    <tr>\n",
       "      <th>2</th>\n",
       "      <td>891815181378084864</td>\n",
       "      <td>2017-07-31 00:18:03 +0000</td>\n",
       "      <td>&lt;a href=\"http://twitter.com/download/iphone\" r...</td>\n",
       "      <td>This is Archie. He is a rare Norwegian Pouncin...</td>\n",
       "      <td>https://twitter.com/dog_rates/status/891815181...</td>\n",
       "      <td>12</td>\n",
       "      <td>10</td>\n",
       "      <td>Archie</td>\n",
       "      <td>None</td>\n",
       "      <td>None</td>\n",
       "      <td>None</td>\n",
       "      <td>None</td>\n",
       "    </tr>\n",
       "    <tr>\n",
       "      <th>3</th>\n",
       "      <td>891689557279858688</td>\n",
       "      <td>2017-07-30 15:58:51 +0000</td>\n",
       "      <td>&lt;a href=\"http://twitter.com/download/iphone\" r...</td>\n",
       "      <td>This is Darla. She commenced a snooze mid meal...</td>\n",
       "      <td>https://twitter.com/dog_rates/status/891689557...</td>\n",
       "      <td>13</td>\n",
       "      <td>10</td>\n",
       "      <td>Darla</td>\n",
       "      <td>None</td>\n",
       "      <td>None</td>\n",
       "      <td>None</td>\n",
       "      <td>None</td>\n",
       "    </tr>\n",
       "    <tr>\n",
       "      <th>4</th>\n",
       "      <td>891327558926688256</td>\n",
       "      <td>2017-07-29 16:00:24 +0000</td>\n",
       "      <td>&lt;a href=\"http://twitter.com/download/iphone\" r...</td>\n",
       "      <td>This is Franklin. He would like you to stop ca...</td>\n",
       "      <td>https://twitter.com/dog_rates/status/891327558...</td>\n",
       "      <td>12</td>\n",
       "      <td>10</td>\n",
       "      <td>Franklin</td>\n",
       "      <td>None</td>\n",
       "      <td>None</td>\n",
       "      <td>None</td>\n",
       "      <td>None</td>\n",
       "    </tr>\n",
       "  </tbody>\n",
       "</table>\n",
       "</div>"
      ],
      "text/plain": [
       "             tweet_id                  timestamp  \\\n",
       "0  892420643555336193  2017-08-01 16:23:56 +0000   \n",
       "1  892177421306343426  2017-08-01 00:17:27 +0000   \n",
       "2  891815181378084864  2017-07-31 00:18:03 +0000   \n",
       "3  891689557279858688  2017-07-30 15:58:51 +0000   \n",
       "4  891327558926688256  2017-07-29 16:00:24 +0000   \n",
       "\n",
       "                                              source  \\\n",
       "0  <a href=\"http://twitter.com/download/iphone\" r...   \n",
       "1  <a href=\"http://twitter.com/download/iphone\" r...   \n",
       "2  <a href=\"http://twitter.com/download/iphone\" r...   \n",
       "3  <a href=\"http://twitter.com/download/iphone\" r...   \n",
       "4  <a href=\"http://twitter.com/download/iphone\" r...   \n",
       "\n",
       "                                                text  \\\n",
       "0  This is Phineas. He's a mystical boy. Only eve...   \n",
       "1  This is Tilly. She's just checking pup on you....   \n",
       "2  This is Archie. He is a rare Norwegian Pouncin...   \n",
       "3  This is Darla. She commenced a snooze mid meal...   \n",
       "4  This is Franklin. He would like you to stop ca...   \n",
       "\n",
       "                                       expanded_urls  rating_numerator  \\\n",
       "0  https://twitter.com/dog_rates/status/892420643...                13   \n",
       "1  https://twitter.com/dog_rates/status/892177421...                13   \n",
       "2  https://twitter.com/dog_rates/status/891815181...                12   \n",
       "3  https://twitter.com/dog_rates/status/891689557...                13   \n",
       "4  https://twitter.com/dog_rates/status/891327558...                12   \n",
       "\n",
       "   rating_denominator      name doggo floofer pupper puppo  \n",
       "0                  10   Phineas  None    None   None  None  \n",
       "1                  10     Tilly  None    None   None  None  \n",
       "2                  10    Archie  None    None   None  None  \n",
       "3                  10     Darla  None    None   None  None  \n",
       "4                  10  Franklin  None    None   None  None  "
      ]
     },
     "execution_count": 30,
     "metadata": {},
     "output_type": "execute_result"
    }
   ],
   "source": [
    "twitter_archive_clean.head()"
   ]
  },
  {
   "cell_type": "markdown",
   "id": "6f3fcdbb",
   "metadata": {},
   "source": [
    "#### Issue 2:"
   ]
  },
  {
   "cell_type": "markdown",
   "id": "789e7b05",
   "metadata": {},
   "source": [
    "##### Define:"
   ]
  },
  {
   "cell_type": "markdown",
   "id": "851e402b",
   "metadata": {},
   "source": [
    "2) Invalid Data Entry:\n",
    "drop urls and in correct dog names"
   ]
  },
  {
   "cell_type": "markdown",
   "id": "91e30a23",
   "metadata": {},
   "source": [
    "##### Code:"
   ]
  },
  {
   "cell_type": "code",
   "execution_count": 31,
   "id": "cdc5b1dd",
   "metadata": {},
   "outputs": [],
   "source": [
    "twitter_archive_clean.drop(twitter_archive_clean[twitter_archive_clean['name'].apply(lambda x: str(x)=='None' or len(str(x)) < 3)]['name'].index, inplace = True)"
   ]
  },
  {
   "cell_type": "markdown",
   "id": "847706f3",
   "metadata": {},
   "source": [
    "##### Test"
   ]
  },
  {
   "cell_type": "code",
   "execution_count": 32,
   "id": "ef809bb6",
   "metadata": {},
   "outputs": [
    {
     "data": {
      "text/plain": [
       "array(['Phineas', 'Tilly', 'Archie', 'Darla', 'Franklin', 'Jax', 'Zoey',\n",
       "       'Cassie', 'Koda', 'Bruno', 'Ted', 'Stuart', 'Oliver', 'Jim',\n",
       "       'Zeke', 'Ralphus', 'Gerald', 'Jeffrey', 'such', 'Canela', 'Maya',\n",
       "       'Mingus', 'Derek', 'Roscoe', 'Waffles', 'Jimbo', 'Maisey', 'Earl',\n",
       "       'Lola', 'Kevin', 'Yogi', 'Noah', 'Bella', 'Grizzwald', 'Rusty',\n",
       "       'Gus', 'Stanley', 'Alfy', 'Koko', 'Rey', 'Gary', 'Elliot', 'Louis',\n",
       "       'Jesse', 'Romeo', 'Bailey', 'Duddles', 'Jack', 'Steven', 'Beau',\n",
       "       'Snoopy', 'Shadow', 'Emmy', 'Aja', 'Penny', 'Nelly', 'Ginger',\n",
       "       'Benedict', 'Venti', 'Goose', 'Nugget', 'Cash', 'Jed', 'Sebastian',\n",
       "       'Sierra', 'Monkey', 'Harry', 'Kody', 'Lassie', 'Rover', 'Napolean',\n",
       "       'Boomer', 'Cody', 'Rumble', 'Clifford', 'Dewey', 'Scout', 'Gizmo',\n",
       "       'Walter', 'Cooper', 'Harold', 'Shikha', 'Lili', 'Jamesy', 'Coco',\n",
       "       'Sammy', 'Meatball', 'Paisley', 'Albus', 'Neptune', 'Belle',\n",
       "       'Quinn', 'Zooey', 'Dave', 'Jersey', 'Hobbes', 'Burt', 'Lorenzo',\n",
       "       'Carl', 'Jordy', 'Milky', 'Trooper', 'quite', 'Sophie', 'Wyatt',\n",
       "       'Rosie', 'Thor', 'Oscar', 'Callie', 'Cermet', 'Marlee', 'Arya',\n",
       "       'Einstein', 'Alice', 'Rumpole', 'Benny', 'Aspen', 'Jarod',\n",
       "       'Wiggles', 'General', 'Sailor', 'Iggy', 'Snoop', 'Kyle', 'Leo',\n",
       "       'Riley', 'Noosh', 'Odin', 'Jerry', 'Georgie', 'Rontu', 'Cannon',\n",
       "       'Furzey', 'Daisy', 'Tuck', 'Barney', 'Vixen', 'Jarvis', 'Mimosa',\n",
       "       'Pickles', 'Brady', 'Luna', 'Charlie', 'Margo', 'Sadie', 'Hank',\n",
       "       'Tycho', 'Indie', 'Winnie', 'George', 'Bentley', 'Max', 'Dawn',\n",
       "       'Maddie', 'Monty', 'Sojourner', 'Winston', 'Odie', 'Arlo',\n",
       "       'Vincent', 'Lucy', 'Clark', 'Mookie', 'Meera', 'Ava', 'Eli', 'Ash',\n",
       "       'Tucker', 'Tobi', 'Chester', 'Wilson', 'Sunshine', 'Lipton',\n",
       "       'Bronte', 'Poppy', 'Gidget', 'Rhino', 'Willow', 'not', 'Orion',\n",
       "       'Eevee', 'Smiley', 'Miguel', 'Emanuel', 'Kuyu', 'Dutch', 'Pete',\n",
       "       'Scooter', 'Reggie', 'Lilly', 'Samson', 'Mia', 'Astrid', 'Malcolm',\n",
       "       'Dexter', 'Alfie', 'Fiona', 'one', 'Mutt', 'Bear', 'Doobert',\n",
       "       'Beebop', 'Alexander', 'Sailer', 'Brutus', 'Kona', 'Boots',\n",
       "       'Ralphie', 'Loki', 'Cupid', 'Pawnd', 'Pilot', 'Ike', 'Toby',\n",
       "       'Sweet', 'Pablo', 'Nala', 'Crawford', 'Gabe', 'Jimison', 'Duchess',\n",
       "       'Harlso', 'Sundance', 'Luca', 'Flash', 'Sunny', 'Howie', 'Jazzy',\n",
       "       'Anna', 'Finn', 'Wafer', 'Tom', 'Florence', 'Autumn', 'Buddy',\n",
       "       'Dido', 'Eugene', 'Ken', 'Strudel', 'Tebow', 'Chloe', 'Timber',\n",
       "       'Binky', 'Moose', 'Dudley', 'Comet', 'Akumi', 'Titan', 'Olivia',\n",
       "       'Alf', 'Oshie', 'Chubbs', 'Sky', 'Atlas', 'Eleanor', 'Layla',\n",
       "       'Rocky', 'Baron', 'Tyr', 'Bauer', 'Swagger', 'Brandi', 'Mary',\n",
       "       'Moe', 'Halo', 'Augie', 'Craig', 'Sam', 'Hunter', 'Pavlov', 'Phil',\n",
       "       'Kyro', 'Wallace', 'Ito', 'Seamus', 'Ollie', 'Stephan', 'Lennon',\n",
       "       'incredibly', 'Major', 'Duke', 'Sansa', 'Shooter', 'Django',\n",
       "       'Diogi', 'Sonny', 'Marley', 'Severus', 'Ronnie', 'Milo', 'Bones',\n",
       "       'Mauve', 'Chef', 'Doc', 'Peaches', 'Sobe', 'Longfellow', 'Mister',\n",
       "       'Iroh', 'Pancake', 'Snicku', 'Ruby', 'Brody', 'Mack', 'Nimbus',\n",
       "       'Laika', 'Maximus', 'Dobby', 'Moreton', 'Juno', 'Maude', 'Lily',\n",
       "       'Newt', 'Benji', 'Nida', 'Robin', 'Monster', 'BeBe', 'Remus',\n",
       "       'Levi', 'Mabel', 'Misty', 'Betty', 'Mosby', 'Maggie', 'Bruce',\n",
       "       'Happy', 'Ralphy', 'Brownie', 'Rizzy', 'Stella', 'Butter', 'Frank',\n",
       "       'Tonks', 'Lincoln', 'Rory', 'Logan', 'Dale', 'Rizzo', 'Arnie',\n",
       "       'Mattie', 'Pinot', 'Dallas', 'Hero', 'Frankie', 'Stormy',\n",
       "       'Reginald', 'Balto', 'Mairi', 'Loomis', 'Godi', 'Cali', 'Deacon',\n",
       "       'Timmy', 'Sampson', 'Chipson', 'Combo', 'Oakley', 'Dash',\n",
       "       'Hercules', 'Jay', 'Mya', 'Strider', 'Wesley', 'Solomon', 'Huck',\n",
       "       'Blue', 'Anakin', 'Finley', 'Sprinkles', 'Heinrich', 'Shakespeare',\n",
       "       'Chelsea', 'Bungalo', 'Chip', 'Grey', 'Roosevelt', 'Willem',\n",
       "       'Davey', 'Dakota', 'Fizz', 'Dixie', 'very', 'Jackson', 'Carbon',\n",
       "       'Klein', 'DonDon', 'Kirby', 'Lou', 'Chevy', 'Tito', 'Philbert',\n",
       "       'Louie', 'Rupert', 'Rufus', 'Brudge', 'Shadoe', 'Angel', 'Brat',\n",
       "       'Tove', 'Gromit', 'Aubie', 'Kota', 'Leela', 'Glenn', 'Shelby',\n",
       "       'Sephie', 'Bonaparte', 'Albert', 'Wishes', 'Rose', 'Theo', 'Rocco',\n",
       "       'Fido', 'Emma', 'Spencer', 'Lilli', 'Boston', 'Brandonald',\n",
       "       'Corey', 'Leonard', 'Beckham', 'Devón', 'Gert', 'Watson', 'Keith',\n",
       "       'Dex', 'Ace', 'Tayzie', 'Grizzie', 'Fred', 'Meyer', 'Zoe',\n",
       "       'Stewie', 'Calvin', 'Lilah', 'Spanky', 'Jameson', 'Piper',\n",
       "       'Atticus', 'Blu', 'Dietrich', 'Divine', 'Tripp', 'his', 'Cora',\n",
       "       'Huxley', 'Keurig', 'Bookstore', 'Linus', 'Abby', 'Shiloh',\n",
       "       'Gustav', 'Arlen', 'Percy', 'Lenox', 'Sugar', 'Blanket',\n",
       "       'actually', 'Geno', 'Stark', 'Beya', 'Kilo', 'Kayla', 'Maxaroni',\n",
       "       'Bell', 'Doug', 'Edmund', 'Aqua', 'Theodore', 'just', 'Baloo',\n",
       "       'Chase', 'getting', 'Nollie', 'Rorie', 'Simba', 'Charles',\n",
       "       'Bayley', 'Axel', 'Storkson', 'Remy', 'Chadrick', 'mad', 'Kellogg',\n",
       "       'Buckley', 'Livvie', 'Terry', 'Hermione', 'Ralpher', 'Aldrick',\n",
       "       'Larry', 'this', 'unacceptable', 'Rooney', 'Crystal', 'Ziva',\n",
       "       'Stefan', 'Pupcasso', 'Puff', 'Flurpson', 'Coleman', 'Enchilada',\n",
       "       'Raymond', 'all', 'Rueben', 'Cilantro', 'Karll', 'Sprout', 'Blitz',\n",
       "       'Bloop', 'Colby', 'Lillie', 'Ashleigh', 'Kreggory', 'Sarge',\n",
       "       'Luther', 'Ivar', 'Jangle', 'Schnitzel', 'Panda', 'Berkeley',\n",
       "       'Ralphé', 'Charleson', 'Clyde', 'Harnold', 'Sid', 'Pippa', 'Otis',\n",
       "       'Carper', 'Bowie', 'Alexanderson', 'Suki', 'Barclay', 'Skittle',\n",
       "       'Ebby', 'Flávio', 'Smokey', 'Link', 'Jennifur', 'Ozzy', 'Bluebert',\n",
       "       'Stephanus', 'Bubbles', 'old', 'Zeus', 'Bertson', 'Nico',\n",
       "       'Michelangelope', 'Siba', 'Calbert', 'Curtis', 'Travis', 'Thumas',\n",
       "       'Kanu', 'Lance', 'Opie', 'Stubert', 'Kane', 'Olive', 'Chuckles',\n",
       "       'Staniel', 'Sora', 'Beemo', 'Gunner', 'infuriating', 'Lacy',\n",
       "       'Tater', 'Olaf', 'Cecil', 'Vince', 'Karma', 'Billy', 'Walker',\n",
       "       'Rodney', 'Klevin', 'Malikai', 'Bobble', 'River', 'Jebberson',\n",
       "       'Remington', 'Farfle', 'Jiminus', 'Harper', 'Clarkus', 'Finnegus',\n",
       "       'Cupcake', 'Kathmandu', 'Ellie', 'Katie', 'Kara', 'Adele', 'Zara',\n",
       "       'Ambrose', 'Jimothy', 'Bode', 'Terrenth', 'Reese', 'Chesterson',\n",
       "       'Lucia', 'Bisquick', 'Ralphson', 'Socks', 'Rambo', 'Rudy', 'Fiji',\n",
       "       'Rilo', 'Bilbo', 'Coopson', 'Yoda', 'Millie', 'Chet', 'Crouton',\n",
       "       'Daniel', 'Kaia', 'Murphy', 'Dotsy', 'Eazy', 'Coops', 'Fillup',\n",
       "       'Miley', 'Charl', 'Reagan', 'Yukon', 'CeCe', 'Cuddles', 'Claude',\n",
       "       'Jessiga', 'Carter', 'Ole', 'Pherb', 'Blipson', 'Reptar',\n",
       "       'Trevith', 'Berb', 'Bob', 'Colin', 'Brian', 'Oliviér', 'Grady',\n",
       "       'Kobe', 'Freddery', 'Bodie', 'Dunkin', 'Wally', 'Tupawc', 'Amber',\n",
       "       'Herschel', 'Edgar', 'Teddy', 'Kingsley', 'Brockly', 'Richie',\n",
       "       'Molly', 'Vinscent', 'Cedrick', 'Hazel', 'Lolo', 'Eriq', 'Phred',\n",
       "       'the', 'Oddie', 'Maxwell', 'Geoff', 'Covach', 'Durg', 'Fynn',\n",
       "       'Ricky', 'Herald', 'Lucky', 'Ferg', 'Trip', 'Clarence', 'Hamrick',\n",
       "       'Brad', 'Pubert', 'Frönq', 'Derby', 'Lizzie', 'Ember', 'Blakely',\n",
       "       'Opal', 'Marq', 'Kramer', 'Barry', 'Tyrone', 'Gordon', 'Baxter',\n",
       "       'Mona', 'Horace', 'Crimson', 'Birf', 'Hammond', 'Lorelei', 'Marty',\n",
       "       'Brooks', 'Petrick', 'Hubertson', 'Gerbald', 'Oreo', 'Bruiser',\n",
       "       'Perry', 'Bobby', 'Jeph', 'Obi', 'Tino', 'Kulet', 'Sweets', 'Lupe',\n",
       "       'Tiger', 'Jiminy', 'Griffin', 'Banjo', 'Brandy', 'Lulu', 'Darrel',\n",
       "       'Taco', 'Joey', 'Patrick', 'Kreg', 'Todo', 'Tess', 'Ulysses',\n",
       "       'Toffee', 'Apollo', 'Carly', 'Asher', 'Glacier', 'Chuck', 'Champ',\n",
       "       'Ozzie', 'Griswold', 'Cheesy', 'Moofasa', 'Hector', 'Goliath',\n",
       "       'Kawhi', 'Emmie', 'Penelope', 'Willie', 'Rinna', 'Mike', 'William',\n",
       "       'Dwight', 'Evy', 'Hurley', 'Rubio', 'officially', 'Chompsky',\n",
       "       'Rascal', 'Linda', 'Tug', 'Tango', 'Grizz', 'Jerome', 'Crumpet',\n",
       "       'Jessifer', 'Izzy', 'Ralph', 'Sandy', 'Humphrey', 'Tassy',\n",
       "       'Juckson', 'Chuq', 'Tyrus', 'Karl', 'Godzilla', 'Vinnie',\n",
       "       'Kenneth', 'Herm', 'Bert', 'Striker', 'Donny', 'Pepper', 'Bernie',\n",
       "       'Buddah', 'Lenny', 'Arnold', 'Zuzu', 'Mollie', 'Laela', 'Tedders',\n",
       "       'Superpup', 'Rufio', 'Jeb', 'Rodman', 'Jonah', 'Chesney', 'life',\n",
       "       'Kenny', 'Henry', 'Bobbay', 'Mitch', 'Kaiya', 'Acro', 'Aiden',\n",
       "       'Obie', 'Dot', 'Shnuggles', 'Kendall', 'Jeffri', 'Steve', 'Eve',\n",
       "       'Mac', 'Fletcher', 'Kenzie', 'Pumpkin', 'Schnozz', 'Gustaf',\n",
       "       'Cheryl', 'Leonidas', 'Norman', 'Caryl', 'Scott', 'Taz', 'Darby',\n",
       "       'Jackie', 'light', 'Jazz', 'Franq', 'Pippin', 'Rolf', 'Snickers',\n",
       "       'Ridley', 'Cal', 'Bradley', 'Bubba', 'Tuco', 'Patch', 'Mojo',\n",
       "       'Batdog', 'Dylan', 'space', 'Mark', 'Alejandro', 'Scruffers',\n",
       "       'Pip', 'Julius', 'Tanner', 'Sparky', 'Anthony', 'Holly', 'Jett',\n",
       "       'Amy', 'Sage', 'Andy', 'Mason', 'Trigger', 'Antony', 'Creg',\n",
       "       'Traviss', 'Gin', 'Jeffrie', 'Danny', 'Ester', 'Pluto', 'Bloo',\n",
       "       'Edd', 'Paull', 'Willy', 'Herb', 'Damon', 'Peanut', 'Nigel',\n",
       "       'Butters', 'Sandra', 'Fabio', 'Randall', 'Liam', 'Tommy', 'Ben',\n",
       "       'Raphael', 'Julio', 'Andru', 'Kloey', 'Shawwn', 'Skye', 'Kollin',\n",
       "       'Ronduh', 'Billl', 'Saydee', 'Dug', 'Tessa', 'Sully', 'Kirk',\n",
       "       'Ralf', 'Clarq', 'Jaspers', 'Samsom', 'Terrance', 'Harrison',\n",
       "       'Chaz', 'Jeremy', 'Jaycob', 'Lambeau', 'Ruffles', 'Amélie', 'Bobb',\n",
       "       'Banditt', 'Kevon', 'Winifred', 'Hanz', 'Churlie', 'Zeek',\n",
       "       'Timofy', 'Maks', 'Jomathan', 'Kallie', 'Marvin', 'Spark',\n",
       "       'Gòrdón', 'DayZ', 'Jareld', 'Torque', 'Ron', 'Skittles',\n",
       "       'Cleopatricia', 'Erik', 'Stu', 'Tedrick', 'Shaggy', 'Filup',\n",
       "       'Kial', 'Naphaniel', 'Dook', 'Hall', 'Philippe', 'Biden', 'Fwed',\n",
       "       'Genevieve', 'Joshwa', 'Timison', 'Bradlay', 'Pipsy', 'Clybe',\n",
       "       'Keet', 'Carll', 'Jockson', 'Josep', 'Lugan', 'Christoper'],\n",
       "      dtype=object)"
      ]
     },
     "execution_count": 32,
     "metadata": {},
     "output_type": "execute_result"
    }
   ],
   "source": [
    "twitter_archive_clean['name'].unique()"
   ]
  },
  {
   "cell_type": "markdown",
   "id": "5748d3a6",
   "metadata": {},
   "source": [
    "#### Issue 3:"
   ]
  },
  {
   "cell_type": "markdown",
   "id": "a60efaf0",
   "metadata": {},
   "source": [
    "##### Define:"
   ]
  },
  {
   "cell_type": "markdown",
   "id": "581e3a30",
   "metadata": {},
   "source": [
    "3) Duplicate Data:\n",
    "I dropped duplicate in the expanded_urls and jpg_url columns."
   ]
  },
  {
   "cell_type": "markdown",
   "id": "8da82ca4",
   "metadata": {},
   "source": [
    "##### Code"
   ]
  },
  {
   "cell_type": "code",
   "execution_count": 33,
   "id": "787ae938",
   "metadata": {},
   "outputs": [],
   "source": [
    "#remove duplicate\n",
    "twitter_archive_clean = twitter_archive_clean.drop_duplicates()"
   ]
  },
  {
   "cell_type": "markdown",
   "id": "2f8e1e0f",
   "metadata": {},
   "source": [
    "##### Test"
   ]
  },
  {
   "cell_type": "code",
   "execution_count": 34,
   "id": "a637ba01",
   "metadata": {},
   "outputs": [
    {
     "data": {
      "text/plain": [
       "0"
      ]
     },
     "execution_count": 34,
     "metadata": {},
     "output_type": "execute_result"
    }
   ],
   "source": [
    "#check duplication\n",
    "twitter_archive_clean.duplicated().sum()"
   ]
  },
  {
   "cell_type": "markdown",
   "id": "b3fc75ca",
   "metadata": {},
   "source": [
    "##### Code"
   ]
  },
  {
   "cell_type": "code",
   "execution_count": 35,
   "id": "8e26265a",
   "metadata": {},
   "outputs": [],
   "source": [
    "#remove duplicate\n",
    "image_predictions_clean = image_predictions_clean.drop_duplicates()"
   ]
  },
  {
   "cell_type": "markdown",
   "id": "1a70f442",
   "metadata": {},
   "source": [
    "##### Test"
   ]
  },
  {
   "cell_type": "code",
   "execution_count": 36,
   "id": "41b2ffac",
   "metadata": {},
   "outputs": [
    {
     "data": {
      "text/plain": [
       "False    2075\n",
       "dtype: int64"
      ]
     },
     "execution_count": 36,
     "metadata": {},
     "output_type": "execute_result"
    }
   ],
   "source": [
    "#check duplication\n",
    "image_predictions_clean.duplicated().value_counts()"
   ]
  },
  {
   "cell_type": "markdown",
   "id": "22c02513",
   "metadata": {},
   "source": [
    "#### Issue 4:"
   ]
  },
  {
   "cell_type": "markdown",
   "id": "042cf65b",
   "metadata": {},
   "source": [
    "##### Define:"
   ]
  },
  {
   "cell_type": "markdown",
   "id": "6396c21c",
   "metadata": {},
   "source": [
    "4) Outliers:\n",
    "I've noticed outliers in the rating_numerator after I visualize the column using a boxplot. I used IQR to remove the outlier."
   ]
  },
  {
   "cell_type": "markdown",
   "id": "f111744c",
   "metadata": {},
   "source": [
    "##### Code:"
   ]
  },
  {
   "cell_type": "code",
   "execution_count": 37,
   "id": "c179c553",
   "metadata": {
    "scrolled": true
   },
   "outputs": [
    {
     "data": {
      "text/html": [
       "<div>\n",
       "<style scoped>\n",
       "    .dataframe tbody tr th:only-of-type {\n",
       "        vertical-align: middle;\n",
       "    }\n",
       "\n",
       "    .dataframe tbody tr th {\n",
       "        vertical-align: top;\n",
       "    }\n",
       "\n",
       "    .dataframe thead th {\n",
       "        text-align: right;\n",
       "    }\n",
       "</style>\n",
       "<table border=\"1\" class=\"dataframe\">\n",
       "  <thead>\n",
       "    <tr style=\"text-align: right;\">\n",
       "      <th></th>\n",
       "      <th>tweet_id</th>\n",
       "      <th>rating_numerator</th>\n",
       "      <th>rating_denominator</th>\n",
       "    </tr>\n",
       "  </thead>\n",
       "  <tbody>\n",
       "    <tr>\n",
       "      <th>count</th>\n",
       "      <td>1.415000e+03</td>\n",
       "      <td>1415.000000</td>\n",
       "      <td>1415.000000</td>\n",
       "    </tr>\n",
       "    <tr>\n",
       "      <th>mean</th>\n",
       "      <td>7.435030e+17</td>\n",
       "      <td>12.202827</td>\n",
       "      <td>10.139929</td>\n",
       "    </tr>\n",
       "    <tr>\n",
       "      <th>std</th>\n",
       "      <td>6.806671e+16</td>\n",
       "      <td>47.286906</td>\n",
       "      <td>4.384483</td>\n",
       "    </tr>\n",
       "    <tr>\n",
       "      <th>min</th>\n",
       "      <td>6.660586e+17</td>\n",
       "      <td>2.000000</td>\n",
       "      <td>7.000000</td>\n",
       "    </tr>\n",
       "    <tr>\n",
       "      <th>25%</th>\n",
       "      <td>6.801839e+17</td>\n",
       "      <td>10.000000</td>\n",
       "      <td>10.000000</td>\n",
       "    </tr>\n",
       "    <tr>\n",
       "      <th>50%</th>\n",
       "      <td>7.226134e+17</td>\n",
       "      <td>11.000000</td>\n",
       "      <td>10.000000</td>\n",
       "    </tr>\n",
       "    <tr>\n",
       "      <th>75%</th>\n",
       "      <td>7.978775e+17</td>\n",
       "      <td>12.000000</td>\n",
       "      <td>10.000000</td>\n",
       "    </tr>\n",
       "    <tr>\n",
       "      <th>max</th>\n",
       "      <td>8.924206e+17</td>\n",
       "      <td>1776.000000</td>\n",
       "      <td>170.000000</td>\n",
       "    </tr>\n",
       "  </tbody>\n",
       "</table>\n",
       "</div>"
      ],
      "text/plain": [
       "           tweet_id  rating_numerator  rating_denominator\n",
       "count  1.415000e+03       1415.000000         1415.000000\n",
       "mean   7.435030e+17         12.202827           10.139929\n",
       "std    6.806671e+16         47.286906            4.384483\n",
       "min    6.660586e+17          2.000000            7.000000\n",
       "25%    6.801839e+17         10.000000           10.000000\n",
       "50%    7.226134e+17         11.000000           10.000000\n",
       "75%    7.978775e+17         12.000000           10.000000\n",
       "max    8.924206e+17       1776.000000          170.000000"
      ]
     },
     "execution_count": 37,
     "metadata": {},
     "output_type": "execute_result"
    }
   ],
   "source": [
    "# use describe function to find Q1 = 25% and Q3 = 75%\n",
    "twitter_archive_clean.describe()"
   ]
  },
  {
   "cell_type": "code",
   "execution_count": 38,
   "id": "5858abcb",
   "metadata": {},
   "outputs": [],
   "source": [
    "#calculate IQR\n",
    "Q1 = 10.000000\n",
    "Q3 = 12.000000\n",
    "IQR= Q3 - Q1\n",
    "upper_limit = Q3 + (1.5 * IQR)\n",
    "lower_limit = Q1 - (1.5 * IQR)"
   ]
  },
  {
   "cell_type": "code",
   "execution_count": 39,
   "id": "f8639c62",
   "metadata": {},
   "outputs": [],
   "source": [
    "twitter_archive_clean = twitter_archive_clean.loc[(twitter_archive_clean['rating_numerator'] > lower_limit) & \n",
    "                                  (twitter_archive_clean['rating_numerator'] < upper_limit)]"
   ]
  },
  {
   "cell_type": "markdown",
   "id": "ff26e8e6",
   "metadata": {},
   "source": [
    "##### Test:"
   ]
  },
  {
   "cell_type": "code",
   "execution_count": 40,
   "id": "ef47330f",
   "metadata": {
    "scrolled": false
   },
   "outputs": [
    {
     "data": {
      "image/png": "[encoded data removed]",
      "text/plain": [
       "<Figure size 1800x360 with 1 Axes>"
      ]
     },
     "metadata": {
      "needs_background": "light"
     },
     "output_type": "display_data"
    }
   ],
   "source": [
    "#check outlires using boxplot\n",
    "fig = plt.figure(figsize = (25, 5))\n",
    "plt.boxplot(twitter_archive_clean['rating_numerator'],vert=False)\n",
    "plt.show()"
   ]
  },
  {
   "cell_type": "markdown",
   "id": "9c360f8f",
   "metadata": {},
   "source": [
    "#### Issue 5:"
   ]
  },
  {
   "cell_type": "markdown",
   "id": "b30997de",
   "metadata": {},
   "source": [
    "##### Define:"
   ]
  },
  {
   "cell_type": "markdown",
   "id": "49428763",
   "metadata": {},
   "source": [
    "5) Data Type:\n",
    "I found data type issues with the Id int data type and the timestamp and covert them using astype and date time functions."
   ]
  },
  {
   "cell_type": "markdown",
   "id": "c9a2d75f",
   "metadata": {},
   "source": [
    "##### Code:"
   ]
  },
  {
   "cell_type": "code",
   "execution_count": 41,
   "id": "982e09d5",
   "metadata": {},
   "outputs": [],
   "source": [
    "twitter_archive_clean['tweet_id'] = twitter_archive_clean['tweet_id'].astype('str')"
   ]
  },
  {
   "cell_type": "markdown",
   "id": "12c24ca9",
   "metadata": {},
   "source": [
    "##### Test:"
   ]
  },
  {
   "cell_type": "code",
   "execution_count": 42,
   "id": "8e6c20de",
   "metadata": {},
   "outputs": [
    {
     "data": {
      "text/plain": [
       "dtype('O')"
      ]
     },
     "execution_count": 42,
     "metadata": {},
     "output_type": "execute_result"
    }
   ],
   "source": [
    "#check data type\n",
    "twitter_archive_clean['tweet_id'].dtype"
   ]
  },
  {
   "cell_type": "markdown",
   "id": "de3de1e7",
   "metadata": {},
   "source": [
    "##### Code:"
   ]
  },
  {
   "cell_type": "code",
   "execution_count": 43,
   "id": "7bc5257b",
   "metadata": {},
   "outputs": [],
   "source": [
    "image_predictions_clean['tweet_id'] = image_predictions_clean['tweet_id'].astype('str')  "
   ]
  },
  {
   "cell_type": "markdown",
   "id": "c1189eaf",
   "metadata": {},
   "source": [
    "##### Test:"
   ]
  },
  {
   "cell_type": "code",
   "execution_count": 44,
   "id": "ce7a7542",
   "metadata": {
    "scrolled": true
   },
   "outputs": [
    {
     "data": {
      "text/plain": [
       "dtype('O')"
      ]
     },
     "execution_count": 44,
     "metadata": {},
     "output_type": "execute_result"
    }
   ],
   "source": [
    "#check data type\n",
    "image_predictions_clean['tweet_id'].dtype"
   ]
  },
  {
   "cell_type": "markdown",
   "id": "2a7093f3",
   "metadata": {},
   "source": [
    "##### Code:"
   ]
  },
  {
   "cell_type": "code",
   "execution_count": 45,
   "id": "92efc491",
   "metadata": {},
   "outputs": [],
   "source": [
    "tweet_json_clean['id'] = tweet_json_clean['id'].astype('str')"
   ]
  },
  {
   "cell_type": "markdown",
   "id": "e3716a1a",
   "metadata": {},
   "source": [
    "##### Test:"
   ]
  },
  {
   "cell_type": "code",
   "execution_count": 46,
   "id": "318f6978",
   "metadata": {},
   "outputs": [
    {
     "data": {
      "text/plain": [
       "dtype('O')"
      ]
     },
     "execution_count": 46,
     "metadata": {},
     "output_type": "execute_result"
    }
   ],
   "source": [
    "#check data type\n",
    "tweet_json_clean['id'].dtype"
   ]
  },
  {
   "cell_type": "markdown",
   "id": "ee18acc3",
   "metadata": {},
   "source": [
    "##### Code:"
   ]
  },
  {
   "cell_type": "code",
   "execution_count": 47,
   "id": "c3252271",
   "metadata": {},
   "outputs": [],
   "source": [
    "twitter_archive_clean['timestamp'] = pd.to_datetime(twitter_archive_clean['timestamp'])"
   ]
  },
  {
   "cell_type": "markdown",
   "id": "6a4482a9",
   "metadata": {},
   "source": [
    "##### Test:"
   ]
  },
  {
   "cell_type": "code",
   "execution_count": 48,
   "id": "9e53e02c",
   "metadata": {},
   "outputs": [
    {
     "data": {
      "text/plain": [
       "datetime64[ns, UTC]"
      ]
     },
     "execution_count": 48,
     "metadata": {},
     "output_type": "execute_result"
    }
   ],
   "source": [
    "#check data type\n",
    "twitter_archive_clean['timestamp'].dtype"
   ]
  },
  {
   "cell_type": "markdown",
   "id": "b0c4e8b9",
   "metadata": {},
   "source": [
    "#### Issue 6:"
   ]
  },
  {
   "cell_type": "markdown",
   "id": "ef536222",
   "metadata": {},
   "source": [
    "##### Define:"
   ]
  },
  {
   "cell_type": "markdown",
   "id": "1f916d3d",
   "metadata": {},
   "source": [
    "6) Column naming:\n",
    "id in JSON file should be tweet_id like the other files"
   ]
  },
  {
   "cell_type": "markdown",
   "id": "b6689c3e",
   "metadata": {},
   "source": [
    "##### Code:"
   ]
  },
  {
   "cell_type": "code",
   "execution_count": 49,
   "id": "f42a20a8",
   "metadata": {},
   "outputs": [],
   "source": [
    "tweet_json_clean.rename(columns = {'id':'tweet_id'}, inplace = True)"
   ]
  },
  {
   "cell_type": "markdown",
   "id": "ff22ddc9",
   "metadata": {},
   "source": [
    "##### Test:"
   ]
  },
  {
   "cell_type": "code",
   "execution_count": 50,
   "id": "0e5080fa",
   "metadata": {},
   "outputs": [
    {
     "data": {
      "text/html": [
       "<div>\n",
       "<style scoped>\n",
       "    .dataframe tbody tr th:only-of-type {\n",
       "        vertical-align: middle;\n",
       "    }\n",
       "\n",
       "    .dataframe tbody tr th {\n",
       "        vertical-align: top;\n",
       "    }\n",
       "\n",
       "    .dataframe thead th {\n",
       "        text-align: right;\n",
       "    }\n",
       "</style>\n",
       "<table border=\"1\" class=\"dataframe\">\n",
       "  <thead>\n",
       "    <tr style=\"text-align: right;\">\n",
       "      <th></th>\n",
       "      <th>tweet_id</th>\n",
       "      <th>retweet_count</th>\n",
       "      <th>favorite_count</th>\n",
       "    </tr>\n",
       "  </thead>\n",
       "  <tbody>\n",
       "    <tr>\n",
       "      <th>0</th>\n",
       "      <td>892420643555336193</td>\n",
       "      <td>8853</td>\n",
       "      <td>39467</td>\n",
       "    </tr>\n",
       "  </tbody>\n",
       "</table>\n",
       "</div>"
      ],
      "text/plain": [
       "             tweet_id  retweet_count  favorite_count\n",
       "0  892420643555336193           8853           39467"
      ]
     },
     "execution_count": 50,
     "metadata": {},
     "output_type": "execute_result"
    }
   ],
   "source": [
    "#check the name\n",
    "tweet_json_clean.head(1)"
   ]
  },
  {
   "cell_type": "markdown",
   "id": "646d2ac1",
   "metadata": {},
   "source": [
    "#### Issue 7:"
   ]
  },
  {
   "cell_type": "markdown",
   "id": "c6c49db8",
   "metadata": {},
   "source": [
    "##### Define:"
   ]
  },
  {
   "cell_type": "markdown",
   "id": "254ac810",
   "metadata": {},
   "source": [
    "7) Replace characters and change format:\n",
    "Replace the underscore with spaces in P1, P2, P3 and remove the characters from the source urls."
   ]
  },
  {
   "cell_type": "markdown",
   "id": "c5739abd",
   "metadata": {},
   "source": [
    "##### Code:"
   ]
  },
  {
   "cell_type": "code",
   "execution_count": 51,
   "id": "7ac12cc9",
   "metadata": {},
   "outputs": [],
   "source": [
    "image_predictions_clean['p1'].replace('_',' ',regex=True,inplace = True)\n",
    "image_predictions_clean['p2'].replace('_',' ',regex=True,inplace = True)\n",
    "image_predictions_clean['p3'].replace('_',' ',regex=True,inplace = True)"
   ]
  },
  {
   "cell_type": "markdown",
   "id": "8f4e35e4",
   "metadata": {},
   "source": [
    "##### Test:"
   ]
  },
  {
   "cell_type": "code",
   "execution_count": 52,
   "id": "15901c16",
   "metadata": {
    "scrolled": true
   },
   "outputs": [
    {
     "data": {
      "text/plain": [
       "array(['Welsh springer spaniel', 'redbone', 'German shepherd',\n",
       "       'Rhodesian ridgeback', 'miniature pinscher',\n",
       "       'Bernese mountain dog', 'box turtle', 'chow', 'shopping cart',\n",
       "       'miniature poodle', 'golden retriever', 'Gordon setter',\n",
       "       'Walker hound', 'pug', 'bloodhound', 'Lhasa', 'English setter',\n",
       "       'hen', 'desktop computer', 'Italian greyhound', 'Maltese dog',\n",
       "       'three-toed sloth', 'ox', 'malamute', 'guinea pig',\n",
       "       'soft-coated wheaten terrier', 'Chihuahua',\n",
       "       'black-and-tan coonhound', 'coho', 'toy terrier',\n",
       "       'Blenheim spaniel', 'Pembroke', 'llama',\n",
       "       'Chesapeake Bay retriever', 'curly-coated retriever', 'dalmatian',\n",
       "       'Ibizan hound', 'Border collie', 'Labrador retriever', 'seat belt',\n",
       "       'snail', 'miniature schnauzer', 'Airedale', 'triceratops', 'swab',\n",
       "       'hay', 'hyena', 'jigsaw puzzle', 'West Highland white terrier',\n",
       "       'toy poodle', 'giant schnauzer', 'vizsla', 'vacuum', 'Rottweiler',\n",
       "       'Siberian husky', 'teddy', 'papillon', 'Saint Bernard',\n",
       "       'porcupine', 'goose', 'Tibetan terrier', 'borzoi', 'beagle',\n",
       "       'hare', 'Yorkshire terrier', 'Pomeranian', 'electric fan',\n",
       "       'web site', 'ibex', 'kuvasz', 'fire engine', 'lorikeet',\n",
       "       'flat-coated retriever', 'toyshop', 'common iguana',\n",
       "       'Norwegian elkhound', 'frilled lizard', 'leatherback turtle',\n",
       "       'hamster', 'Angora', 'Arctic fox', 'trombone', 'canoe',\n",
       "       'king penguin', 'shopping basket', 'standard poodle',\n",
       "       'Staffordshire bullterrier', 'basenji', 'Lakeland terrier',\n",
       "       'American Staffordshire terrier', 'bearskin', 'Shih-Tzu',\n",
       "       'bustard', 'crash helmet', 'French bulldog', 'Pekinese',\n",
       "       'komondor', 'ski mask', 'malinois', 'kelpie', 'Brittany spaniel',\n",
       "       'cocker spaniel', 'shower curtain', 'basset', 'jellyfish',\n",
       "       'doormat', 'Arabian camel', 'lynx', 'hog', 'comic book', 'minivan',\n",
       "       'seashore', 'cuirass', 'Brabancon griffon', 'candle', 'Eskimo dog',\n",
       "       'weasel', 'Christmas stocking', 'washbasin', 'car mirror',\n",
       "       'piggy bank', 'pot', 'boathouse', 'mud turtle',\n",
       "       'German short-haired pointer', 'Shetland sheepdog',\n",
       "       'Irish terrier', 'cairn', 'platypus', 'English springer',\n",
       "       'whippet', 'ping-pong ball', 'sea urchin', 'bow tie',\n",
       "       'window shade', \"jack-o'-lantern\", 'sorrel', 'Sussex spaniel',\n",
       "       'peacock', 'axolotl', 'wool', 'banana', 'Dandie Dinmont',\n",
       "       'Norwich terrier', 'wood rabbit', 'dhole', 'keeshond',\n",
       "       'Norfolk terrier', 'lacewing', 'dingo', 'brown bear',\n",
       "       'Old English sheepdog', 'scorpion', 'flamingo', 'microphone',\n",
       "       'Samoyed', 'pitcher', 'African hunting dog', 'refrigerator',\n",
       "       'picket fence', 'tub', 'zebra', 'hermit crab', 'swing', 'Doberman',\n",
       "       'park bench', 'feather boa', 'Loafer', 'stone wall', 'ice bear',\n",
       "       'prayer rug', 'chimpanzee', 'china cabinet', 'bee eater',\n",
       "       'tennis ball', 'carton', 'killer whale', 'ostrich', 'terrapin',\n",
       "       'Siamese cat', 'gondola', 'Great Pyrenees', 'microwave',\n",
       "       'starfish', 'sandbar', 'tusker', 'motor scooter', 'ram',\n",
       "       'leaf beetle', 'wombat', 'schipperke', 'Newfoundland',\n",
       "       'bull mastiff', 'water bottle', 'suit', 'toilet seat', 'collie',\n",
       "       'robin', 'Cardigan', 'Greater Swiss Mountain dog', 'slug',\n",
       "       'toilet tissue', 'acorn squash', 'soccer ball',\n",
       "       'African crocodile', 'tick', 'ocarina', 'boxer', 'street sign',\n",
       "       'bow', 'stove', 'paper towel', 'upright', 'dough',\n",
       "       'Scottish deerhound', 'bath towel', 'standard schnauzer',\n",
       "       'walking stick', 'Irish water spaniel', 'bubble', 'Boston bull',\n",
       "       'book jacket', 'rain barrel', 'black-footed ferret', 'guenon',\n",
       "       'Japanese spaniel', 'water buffalo', 'patio', 'cowboy hat',\n",
       "       'dogsled', 'maze', 'harp', 'panpipe', 'cash machine', 'mailbox',\n",
       "       'wallaby', 'EntleBucher', 'earthstar', 'pillow', 'bluetick',\n",
       "       'space heater', 'carousel', 'Irish setter', 'birdhouse', 'snorkel',\n",
       "       'bald eagle', 'koala', 'Leonberg', 'cheetah', 'minibus',\n",
       "       'Weimaraner', 'clog', 'dishwasher', 'white wolf', 'sliding door',\n",
       "       'damselfly', 'Great Dane', 'Tibetan mastiff', 'cheeseburger',\n",
       "       'fiddler crab', 'bannister', 'crane', 'Scotch terrier',\n",
       "       'snowmobile', 'badger', 'bighorn', 'geyser', 'barrow', 'bison',\n",
       "       'Mexican hairless', 'ice lolly', 'sea lion', 'dining table',\n",
       "       'groenendael', 'Australian terrier', 'beaver', 'briard',\n",
       "       'Appenzeller', 'grey fox', 'mousetrap', 'hippopotamus',\n",
       "       'Border terrier', 'hummingbird', 'tailed frog', 'otter',\n",
       "       'Egyptian cat', 'four-poster', 'wild boar', 'bathtub', 'agama',\n",
       "       'muzzle', 'hotdog', 'bib', 'espresso', 'timber wolf', 'meerkat',\n",
       "       'nail', 'hammer', 'home theater', 'alp', 'bonnet', 'handkerchief',\n",
       "       'hand blower', 'polecat', 'lakeside', 'studio couch', 'cup',\n",
       "       'cliff', 'Bedlington terrier', 'lawn mower', 'balloon',\n",
       "       'sunglasses', 'rapeseed', 'traffic light', 'coil', 'binoculars',\n",
       "       'paddle', 'tiger shark', 'sulphur-crested cockatoo',\n",
       "       'wire-haired fox terrier', 'Saluki', 'American black bear',\n",
       "       'rotisserie', 'conch', 'skunk', 'bookshop', 'radio telescope',\n",
       "       'cougar', 'African grey', 'coral reef', 'lion', 'maillot',\n",
       "       'Madagascar cat', 'tabby', 'silky terrier', 'giant panda',\n",
       "       'long-horned beetle', 'Afghan hound', 'clumber', 'sundial',\n",
       "       'padlock', 'pool table', 'quilt', 'beach wagon', 'remote control',\n",
       "       'bakery', 'pedestal', 'gas pump', 'bookcase', 'shield', 'loupe',\n",
       "       'restaurant', 'prison', 'school bus', 'cowboy boot', 'jersey',\n",
       "       'wooden spoon', 'leopard', 'mortarboard', 'teapot',\n",
       "       'military uniform', 'washer', 'coffee mug', 'fountain',\n",
       "       'pencil box', 'barbell', 'grille', 'revolver', 'envelope',\n",
       "       'syringe', 'marmot', 'pole', 'laptop', 'basketball', 'tricycle',\n",
       "       'convertible', 'limousine', 'orange'], dtype=object)"
      ]
     },
     "execution_count": 52,
     "metadata": {},
     "output_type": "execute_result"
    }
   ],
   "source": [
    "#check the values after replacing\n",
    "image_predictions_clean['p1'].unique()"
   ]
  },
  {
   "cell_type": "markdown",
   "id": "75d6c996",
   "metadata": {},
   "source": [
    "##### Code:"
   ]
  },
  {
   "cell_type": "code",
   "execution_count": 53,
   "id": "a28ee768",
   "metadata": {},
   "outputs": [
    {
     "name": "stderr",
     "output_type": "stream",
     "text": [
      "C:\\Users\\wmangl\\AppData\\Local\\Temp\\ipykernel_2864\\3694680748.py:2: FutureWarning: The default value of regex will change from True to False in a future version.\n",
      "  twitter_archive_clean['source'] = twitter_archive_clean.source.str.replace(r'<(?:a\\b[^>]*>|/a>)', '')\n"
     ]
    }
   ],
   "source": [
    "#replace\n",
    "twitter_archive_clean['source'] = twitter_archive_clean.source.str.replace(r'<(?:a\\b[^>]*>|/a>)', '')"
   ]
  },
  {
   "cell_type": "code",
   "execution_count": 54,
   "id": "c7884daf",
   "metadata": {},
   "outputs": [],
   "source": [
    "#convert type\n",
    "twitter_archive_clean['source']  = twitter_archive_clean.source.astype('category')"
   ]
  },
  {
   "cell_type": "markdown",
   "id": "fd7081b8",
   "metadata": {},
   "source": [
    "##### Test:"
   ]
  },
  {
   "cell_type": "code",
   "execution_count": 55,
   "id": "79236c1d",
   "metadata": {
    "scrolled": false
   },
   "outputs": [
    {
     "data": {
      "text/plain": [
       "Twitter for iPhone     1258\n",
       "Vine - Make a Scene      44\n",
       "Twitter Web Client       16\n",
       "TweetDeck                 7\n",
       "Name: source, dtype: int64"
      ]
     },
     "execution_count": 55,
     "metadata": {},
     "output_type": "execute_result"
    }
   ],
   "source": [
    "#check the values\n",
    "twitter_archive_clean['source'] .value_counts()"
   ]
  },
  {
   "cell_type": "markdown",
   "id": "0f0ecfe2",
   "metadata": {},
   "source": [
    "#### Issue 8:"
   ]
  },
  {
   "cell_type": "markdown",
   "id": "adb937c9",
   "metadata": {},
   "source": [
    "##### Define:"
   ]
  },
  {
   "cell_type": "markdown",
   "id": "94b41c50",
   "metadata": {},
   "source": [
    "8) Missing/null:\n",
    "Detect null values in twitter archive and remove them"
   ]
  },
  {
   "cell_type": "markdown",
   "id": "842aac1d",
   "metadata": {},
   "source": [
    "##### Code:"
   ]
  },
  {
   "cell_type": "code",
   "execution_count": 56,
   "id": "07e444b2",
   "metadata": {},
   "outputs": [],
   "source": [
    "twitter_archive_clean = twitter_archive_clean.dropna(axis=1)"
   ]
  },
  {
   "cell_type": "markdown",
   "id": "655c3f47",
   "metadata": {},
   "source": [
    "##### Test:"
   ]
  },
  {
   "cell_type": "code",
   "execution_count": 57,
   "id": "e1b4db83",
   "metadata": {},
   "outputs": [
    {
     "data": {
      "text/plain": [
       "False"
      ]
     },
     "execution_count": 57,
     "metadata": {},
     "output_type": "execute_result"
    }
   ],
   "source": [
    "twitter_archive_clean.isnull().values.any()"
   ]
  },
  {
   "cell_type": "markdown",
   "id": "ae038612",
   "metadata": {},
   "source": [
    "### Tidiness Issues"
   ]
  },
  {
   "cell_type": "markdown",
   "id": "d3d71ceb",
   "metadata": {},
   "source": [
    "#### Issue 1:"
   ]
  },
  {
   "cell_type": "markdown",
   "id": "04724899",
   "metadata": {},
   "source": [
    "##### Define:"
   ]
  },
  {
   "cell_type": "markdown",
   "id": "b01fed75",
   "metadata": {},
   "source": [
    "1) Merge columns:\n",
    "Its better to combine (doggo, floofer, pupper, puppo) columns into one (called Type column)"
   ]
  },
  {
   "cell_type": "markdown",
   "id": "d76c7a20",
   "metadata": {},
   "source": [
    "##### Code:"
   ]
  },
  {
   "cell_type": "code",
   "execution_count": 58,
   "id": "b30b9e46",
   "metadata": {},
   "outputs": [],
   "source": [
    "#new column (types) with category data type\n",
    "twitter_archive_clean['types'] = twitter_archive_clean[['doggo', 'floofer', 'pupper', 'puppo']].max(axis=1)\n",
    "twitter_archive_clean['types'] = twitter_archive_clean['types'].astype('category')"
   ]
  },
  {
   "cell_type": "code",
   "execution_count": 59,
   "id": "2a2374d0",
   "metadata": {},
   "outputs": [],
   "source": [
    "#remove the 4 columns\n",
    "twitter_archive_clean.drop(['doggo', 'floofer', 'pupper', 'puppo'], axis=1, inplace=True)"
   ]
  },
  {
   "cell_type": "code",
   "execution_count": 60,
   "id": "0dafa969",
   "metadata": {
    "scrolled": true
   },
   "outputs": [
    {
     "data": {
      "text/plain": [
       "Index(['tweet_id', 'timestamp', 'source', 'text', 'expanded_urls',\n",
       "       'rating_numerator', 'rating_denominator', 'name', 'types'],\n",
       "      dtype='object')"
      ]
     },
     "execution_count": 60,
     "metadata": {},
     "output_type": "execute_result"
    }
   ],
   "source": [
    "#check the columns\n",
    "twitter_archive_clean.columns"
   ]
  },
  {
   "cell_type": "code",
   "execution_count": 61,
   "id": "572e892b",
   "metadata": {},
   "outputs": [],
   "source": [
    "twitter_archive_clean['types'].replace('None', np.nan, inplace = True)"
   ]
  },
  {
   "cell_type": "markdown",
   "id": "224337ae",
   "metadata": {},
   "source": [
    "##### Test:"
   ]
  },
  {
   "cell_type": "code",
   "execution_count": 62,
   "id": "691c0336",
   "metadata": {},
   "outputs": [
    {
     "data": {
      "text/plain": [
       "pupper     123\n",
       "doggo       38\n",
       "puppo       16\n",
       "floofer      5\n",
       "Name: types, dtype: int64"
      ]
     },
     "execution_count": 62,
     "metadata": {},
     "output_type": "execute_result"
    }
   ],
   "source": [
    "#check the values\n",
    "twitter_archive_clean['types'].value_counts()"
   ]
  },
  {
   "cell_type": "markdown",
   "id": "90b8bc67",
   "metadata": {},
   "source": [
    "#### Issue 2:"
   ]
  },
  {
   "cell_type": "markdown",
   "id": "fbdf0450",
   "metadata": {},
   "source": [
    "##### Define:"
   ]
  },
  {
   "cell_type": "markdown",
   "id": "48847393",
   "metadata": {},
   "source": [
    "2) Merge data frames: \n",
    "We should work with one dataset and merge the three files (twitter_archive, image_predictions, tweet_json)"
   ]
  },
  {
   "cell_type": "markdown",
   "id": "cbe34756",
   "metadata": {},
   "source": [
    "##### Code:"
   ]
  },
  {
   "cell_type": "code",
   "execution_count": 63,
   "id": "0664b8ab",
   "metadata": {},
   "outputs": [],
   "source": [
    "dogs_dataset = pd.merge(twitter_archive_clean, image_predictions_clean, how = 'inner', on = ['tweet_id'] )"
   ]
  },
  {
   "cell_type": "code",
   "execution_count": 64,
   "id": "0adeda2b",
   "metadata": {},
   "outputs": [],
   "source": [
    "dogs_dataset = pd.merge(dogs_dataset, tweet_json_clean, how = 'inner', on = ['tweet_id'])"
   ]
  },
  {
   "cell_type": "markdown",
   "id": "61df2a3a",
   "metadata": {},
   "source": [
    "##### Test:"
   ]
  },
  {
   "cell_type": "code",
   "execution_count": 65,
   "id": "7ac681dd",
   "metadata": {},
   "outputs": [
    {
     "data": {
      "text/html": [
       "<div>\n",
       "<style scoped>\n",
       "    .dataframe tbody tr th:only-of-type {\n",
       "        vertical-align: middle;\n",
       "    }\n",
       "\n",
       "    .dataframe tbody tr th {\n",
       "        vertical-align: top;\n",
       "    }\n",
       "\n",
       "    .dataframe thead th {\n",
       "        text-align: right;\n",
       "    }\n",
       "</style>\n",
       "<table border=\"1\" class=\"dataframe\">\n",
       "  <thead>\n",
       "    <tr style=\"text-align: right;\">\n",
       "      <th></th>\n",
       "      <th>tweet_id</th>\n",
       "      <th>timestamp</th>\n",
       "      <th>source</th>\n",
       "      <th>text</th>\n",
       "      <th>expanded_urls</th>\n",
       "      <th>rating_numerator</th>\n",
       "      <th>rating_denominator</th>\n",
       "      <th>name</th>\n",
       "      <th>types</th>\n",
       "      <th>jpg_url</th>\n",
       "      <th>...</th>\n",
       "      <th>p1_conf</th>\n",
       "      <th>p1_dog</th>\n",
       "      <th>p2</th>\n",
       "      <th>p2_conf</th>\n",
       "      <th>p2_dog</th>\n",
       "      <th>p3</th>\n",
       "      <th>p3_conf</th>\n",
       "      <th>p3_dog</th>\n",
       "      <th>retweet_count</th>\n",
       "      <th>favorite_count</th>\n",
       "    </tr>\n",
       "  </thead>\n",
       "  <tbody>\n",
       "    <tr>\n",
       "      <th>0</th>\n",
       "      <td>892420643555336193</td>\n",
       "      <td>2017-08-01 16:23:56+00:00</td>\n",
       "      <td>Twitter for iPhone</td>\n",
       "      <td>This is Phineas. He's a mystical boy. Only eve...</td>\n",
       "      <td>https://twitter.com/dog_rates/status/892420643...</td>\n",
       "      <td>13</td>\n",
       "      <td>10</td>\n",
       "      <td>Phineas</td>\n",
       "      <td>NaN</td>\n",
       "      <td>https://pbs.twimg.com/media/DGKD1-bXoAAIAUK.jpg</td>\n",
       "      <td>...</td>\n",
       "      <td>0.097049</td>\n",
       "      <td>False</td>\n",
       "      <td>bagel</td>\n",
       "      <td>0.085851</td>\n",
       "      <td>False</td>\n",
       "      <td>banana</td>\n",
       "      <td>0.076110</td>\n",
       "      <td>False</td>\n",
       "      <td>8853</td>\n",
       "      <td>39467</td>\n",
       "    </tr>\n",
       "    <tr>\n",
       "      <th>1</th>\n",
       "      <td>892177421306343426</td>\n",
       "      <td>2017-08-01 00:17:27+00:00</td>\n",
       "      <td>Twitter for iPhone</td>\n",
       "      <td>This is Tilly. She's just checking pup on you....</td>\n",
       "      <td>https://twitter.com/dog_rates/status/892177421...</td>\n",
       "      <td>13</td>\n",
       "      <td>10</td>\n",
       "      <td>Tilly</td>\n",
       "      <td>NaN</td>\n",
       "      <td>https://pbs.twimg.com/media/DGGmoV4XsAAUL6n.jpg</td>\n",
       "      <td>...</td>\n",
       "      <td>0.323581</td>\n",
       "      <td>True</td>\n",
       "      <td>Pekinese</td>\n",
       "      <td>0.090647</td>\n",
       "      <td>True</td>\n",
       "      <td>papillon</td>\n",
       "      <td>0.068957</td>\n",
       "      <td>True</td>\n",
       "      <td>6514</td>\n",
       "      <td>33819</td>\n",
       "    </tr>\n",
       "    <tr>\n",
       "      <th>2</th>\n",
       "      <td>891815181378084864</td>\n",
       "      <td>2017-07-31 00:18:03+00:00</td>\n",
       "      <td>Twitter for iPhone</td>\n",
       "      <td>This is Archie. He is a rare Norwegian Pouncin...</td>\n",
       "      <td>https://twitter.com/dog_rates/status/891815181...</td>\n",
       "      <td>12</td>\n",
       "      <td>10</td>\n",
       "      <td>Archie</td>\n",
       "      <td>NaN</td>\n",
       "      <td>https://pbs.twimg.com/media/DGBdLU1WsAANxJ9.jpg</td>\n",
       "      <td>...</td>\n",
       "      <td>0.716012</td>\n",
       "      <td>True</td>\n",
       "      <td>malamute</td>\n",
       "      <td>0.078253</td>\n",
       "      <td>True</td>\n",
       "      <td>kelpie</td>\n",
       "      <td>0.031379</td>\n",
       "      <td>True</td>\n",
       "      <td>4328</td>\n",
       "      <td>25461</td>\n",
       "    </tr>\n",
       "    <tr>\n",
       "      <th>3</th>\n",
       "      <td>891689557279858688</td>\n",
       "      <td>2017-07-30 15:58:51+00:00</td>\n",
       "      <td>Twitter for iPhone</td>\n",
       "      <td>This is Darla. She commenced a snooze mid meal...</td>\n",
       "      <td>https://twitter.com/dog_rates/status/891689557...</td>\n",
       "      <td>13</td>\n",
       "      <td>10</td>\n",
       "      <td>Darla</td>\n",
       "      <td>NaN</td>\n",
       "      <td>https://pbs.twimg.com/media/DF_q7IAWsAEuuN8.jpg</td>\n",
       "      <td>...</td>\n",
       "      <td>0.170278</td>\n",
       "      <td>False</td>\n",
       "      <td>Labrador retriever</td>\n",
       "      <td>0.168086</td>\n",
       "      <td>True</td>\n",
       "      <td>spatula</td>\n",
       "      <td>0.040836</td>\n",
       "      <td>False</td>\n",
       "      <td>8964</td>\n",
       "      <td>42908</td>\n",
       "    </tr>\n",
       "    <tr>\n",
       "      <th>4</th>\n",
       "      <td>891327558926688256</td>\n",
       "      <td>2017-07-29 16:00:24+00:00</td>\n",
       "      <td>Twitter for iPhone</td>\n",
       "      <td>This is Franklin. He would like you to stop ca...</td>\n",
       "      <td>https://twitter.com/dog_rates/status/891327558...</td>\n",
       "      <td>12</td>\n",
       "      <td>10</td>\n",
       "      <td>Franklin</td>\n",
       "      <td>NaN</td>\n",
       "      <td>https://pbs.twimg.com/media/DF6hr6BUMAAzZgT.jpg</td>\n",
       "      <td>...</td>\n",
       "      <td>0.555712</td>\n",
       "      <td>True</td>\n",
       "      <td>English springer</td>\n",
       "      <td>0.225770</td>\n",
       "      <td>True</td>\n",
       "      <td>German short-haired pointer</td>\n",
       "      <td>0.175219</td>\n",
       "      <td>True</td>\n",
       "      <td>9774</td>\n",
       "      <td>41048</td>\n",
       "    </tr>\n",
       "  </tbody>\n",
       "</table>\n",
       "<p>5 rows × 22 columns</p>\n",
       "</div>"
      ],
      "text/plain": [
       "             tweet_id                 timestamp              source  \\\n",
       "0  892420643555336193 2017-08-01 16:23:56+00:00  Twitter for iPhone   \n",
       "1  892177421306343426 2017-08-01 00:17:27+00:00  Twitter for iPhone   \n",
       "2  891815181378084864 2017-07-31 00:18:03+00:00  Twitter for iPhone   \n",
       "3  891689557279858688 2017-07-30 15:58:51+00:00  Twitter for iPhone   \n",
       "4  891327558926688256 2017-07-29 16:00:24+00:00  Twitter for iPhone   \n",
       "\n",
       "                                                text  \\\n",
       "0  This is Phineas. He's a mystical boy. Only eve...   \n",
       "1  This is Tilly. She's just checking pup on you....   \n",
       "2  This is Archie. He is a rare Norwegian Pouncin...   \n",
       "3  This is Darla. She commenced a snooze mid meal...   \n",
       "4  This is Franklin. He would like you to stop ca...   \n",
       "\n",
       "                                       expanded_urls  rating_numerator  \\\n",
       "0  https://twitter.com/dog_rates/status/892420643...                13   \n",
       "1  https://twitter.com/dog_rates/status/892177421...                13   \n",
       "2  https://twitter.com/dog_rates/status/891815181...                12   \n",
       "3  https://twitter.com/dog_rates/status/891689557...                13   \n",
       "4  https://twitter.com/dog_rates/status/891327558...                12   \n",
       "\n",
       "   rating_denominator      name types  \\\n",
       "0                  10   Phineas   NaN   \n",
       "1                  10     Tilly   NaN   \n",
       "2                  10    Archie   NaN   \n",
       "3                  10     Darla   NaN   \n",
       "4                  10  Franklin   NaN   \n",
       "\n",
       "                                           jpg_url  ...   p1_conf p1_dog  \\\n",
       "0  https://pbs.twimg.com/media/DGKD1-bXoAAIAUK.jpg  ...  0.097049  False   \n",
       "1  https://pbs.twimg.com/media/DGGmoV4XsAAUL6n.jpg  ...  0.323581   True   \n",
       "2  https://pbs.twimg.com/media/DGBdLU1WsAANxJ9.jpg  ...  0.716012   True   \n",
       "3  https://pbs.twimg.com/media/DF_q7IAWsAEuuN8.jpg  ...  0.170278  False   \n",
       "4  https://pbs.twimg.com/media/DF6hr6BUMAAzZgT.jpg  ...  0.555712   True   \n",
       "\n",
       "                   p2   p2_conf p2_dog                           p3   p3_conf  \\\n",
       "0               bagel  0.085851  False                       banana  0.076110   \n",
       "1            Pekinese  0.090647   True                     papillon  0.068957   \n",
       "2            malamute  0.078253   True                       kelpie  0.031379   \n",
       "3  Labrador retriever  0.168086   True                      spatula  0.040836   \n",
       "4    English springer  0.225770   True  German short-haired pointer  0.175219   \n",
       "\n",
       "  p3_dog  retweet_count  favorite_count  \n",
       "0  False           8853           39467  \n",
       "1   True           6514           33819  \n",
       "2   True           4328           25461  \n",
       "3  False           8964           42908  \n",
       "4   True           9774           41048  \n",
       "\n",
       "[5 rows x 22 columns]"
      ]
     },
     "execution_count": 65,
     "metadata": {},
     "output_type": "execute_result"
    }
   ],
   "source": [
    "dogs_dataset.head()"
   ]
  },
  {
   "cell_type": "markdown",
   "id": "0283ee5f",
   "metadata": {},
   "source": [
    "## Step 4: Storing Data"
   ]
  },
  {
   "cell_type": "markdown",
   "id": "37467d5f",
   "metadata": {},
   "source": [
    "* Save the last updated df to the CSV"
   ]
  },
  {
   "cell_type": "code",
   "execution_count": 66,
   "id": "63df4e1a",
   "metadata": {},
   "outputs": [],
   "source": [
    " dogs_dataset.to_csv('twitter_archive_master.csv', index=False)"
   ]
  },
  {
   "cell_type": "markdown",
   "id": "94e7c65b",
   "metadata": {},
   "source": [
    "## Step 5: Analyzing and Visualizing (insights)"
   ]
  },
  {
   "cell_type": "code",
   "execution_count": 67,
   "id": "f18ac3a0",
   "metadata": {},
   "outputs": [],
   "source": [
    "#read the CSV file\n",
    "twitter_archive_master = pd.read_csv('twitter_archive_master.csv')"
   ]
  },
  {
   "cell_type": "code",
   "execution_count": 68,
   "id": "5e44972a",
   "metadata": {},
   "outputs": [
    {
     "data": {
      "text/html": [
       "<div>\n",
       "<style scoped>\n",
       "    .dataframe tbody tr th:only-of-type {\n",
       "        vertical-align: middle;\n",
       "    }\n",
       "\n",
       "    .dataframe tbody tr th {\n",
       "        vertical-align: top;\n",
       "    }\n",
       "\n",
       "    .dataframe thead th {\n",
       "        text-align: right;\n",
       "    }\n",
       "</style>\n",
       "<table border=\"1\" class=\"dataframe\">\n",
       "  <thead>\n",
       "    <tr style=\"text-align: right;\">\n",
       "      <th></th>\n",
       "      <th>tweet_id</th>\n",
       "      <th>timestamp</th>\n",
       "      <th>source</th>\n",
       "      <th>text</th>\n",
       "      <th>expanded_urls</th>\n",
       "      <th>rating_numerator</th>\n",
       "      <th>rating_denominator</th>\n",
       "      <th>name</th>\n",
       "      <th>types</th>\n",
       "      <th>jpg_url</th>\n",
       "      <th>...</th>\n",
       "      <th>p1_conf</th>\n",
       "      <th>p1_dog</th>\n",
       "      <th>p2</th>\n",
       "      <th>p2_conf</th>\n",
       "      <th>p2_dog</th>\n",
       "      <th>p3</th>\n",
       "      <th>p3_conf</th>\n",
       "      <th>p3_dog</th>\n",
       "      <th>retweet_count</th>\n",
       "      <th>favorite_count</th>\n",
       "    </tr>\n",
       "  </thead>\n",
       "  <tbody>\n",
       "    <tr>\n",
       "      <th>0</th>\n",
       "      <td>892420643555336193</td>\n",
       "      <td>2017-08-01 16:23:56+00:00</td>\n",
       "      <td>Twitter for iPhone</td>\n",
       "      <td>This is Phineas. He's a mystical boy. Only eve...</td>\n",
       "      <td>https://twitter.com/dog_rates/status/892420643...</td>\n",
       "      <td>13</td>\n",
       "      <td>10</td>\n",
       "      <td>Phineas</td>\n",
       "      <td>NaN</td>\n",
       "      <td>https://pbs.twimg.com/media/DGKD1-bXoAAIAUK.jpg</td>\n",
       "      <td>...</td>\n",
       "      <td>0.097049</td>\n",
       "      <td>False</td>\n",
       "      <td>bagel</td>\n",
       "      <td>0.085851</td>\n",
       "      <td>False</td>\n",
       "      <td>banana</td>\n",
       "      <td>0.076110</td>\n",
       "      <td>False</td>\n",
       "      <td>8853</td>\n",
       "      <td>39467</td>\n",
       "    </tr>\n",
       "    <tr>\n",
       "      <th>1</th>\n",
       "      <td>892177421306343426</td>\n",
       "      <td>2017-08-01 00:17:27+00:00</td>\n",
       "      <td>Twitter for iPhone</td>\n",
       "      <td>This is Tilly. She's just checking pup on you....</td>\n",
       "      <td>https://twitter.com/dog_rates/status/892177421...</td>\n",
       "      <td>13</td>\n",
       "      <td>10</td>\n",
       "      <td>Tilly</td>\n",
       "      <td>NaN</td>\n",
       "      <td>https://pbs.twimg.com/media/DGGmoV4XsAAUL6n.jpg</td>\n",
       "      <td>...</td>\n",
       "      <td>0.323581</td>\n",
       "      <td>True</td>\n",
       "      <td>Pekinese</td>\n",
       "      <td>0.090647</td>\n",
       "      <td>True</td>\n",
       "      <td>papillon</td>\n",
       "      <td>0.068957</td>\n",
       "      <td>True</td>\n",
       "      <td>6514</td>\n",
       "      <td>33819</td>\n",
       "    </tr>\n",
       "    <tr>\n",
       "      <th>2</th>\n",
       "      <td>891815181378084864</td>\n",
       "      <td>2017-07-31 00:18:03+00:00</td>\n",
       "      <td>Twitter for iPhone</td>\n",
       "      <td>This is Archie. He is a rare Norwegian Pouncin...</td>\n",
       "      <td>https://twitter.com/dog_rates/status/891815181...</td>\n",
       "      <td>12</td>\n",
       "      <td>10</td>\n",
       "      <td>Archie</td>\n",
       "      <td>NaN</td>\n",
       "      <td>https://pbs.twimg.com/media/DGBdLU1WsAANxJ9.jpg</td>\n",
       "      <td>...</td>\n",
       "      <td>0.716012</td>\n",
       "      <td>True</td>\n",
       "      <td>malamute</td>\n",
       "      <td>0.078253</td>\n",
       "      <td>True</td>\n",
       "      <td>kelpie</td>\n",
       "      <td>0.031379</td>\n",
       "      <td>True</td>\n",
       "      <td>4328</td>\n",
       "      <td>25461</td>\n",
       "    </tr>\n",
       "    <tr>\n",
       "      <th>3</th>\n",
       "      <td>891689557279858688</td>\n",
       "      <td>2017-07-30 15:58:51+00:00</td>\n",
       "      <td>Twitter for iPhone</td>\n",
       "      <td>This is Darla. She commenced a snooze mid meal...</td>\n",
       "      <td>https://twitter.com/dog_rates/status/891689557...</td>\n",
       "      <td>13</td>\n",
       "      <td>10</td>\n",
       "      <td>Darla</td>\n",
       "      <td>NaN</td>\n",
       "      <td>https://pbs.twimg.com/media/DF_q7IAWsAEuuN8.jpg</td>\n",
       "      <td>...</td>\n",
       "      <td>0.170278</td>\n",
       "      <td>False</td>\n",
       "      <td>Labrador retriever</td>\n",
       "      <td>0.168086</td>\n",
       "      <td>True</td>\n",
       "      <td>spatula</td>\n",
       "      <td>0.040836</td>\n",
       "      <td>False</td>\n",
       "      <td>8964</td>\n",
       "      <td>42908</td>\n",
       "    </tr>\n",
       "    <tr>\n",
       "      <th>4</th>\n",
       "      <td>891327558926688256</td>\n",
       "      <td>2017-07-29 16:00:24+00:00</td>\n",
       "      <td>Twitter for iPhone</td>\n",
       "      <td>This is Franklin. He would like you to stop ca...</td>\n",
       "      <td>https://twitter.com/dog_rates/status/891327558...</td>\n",
       "      <td>12</td>\n",
       "      <td>10</td>\n",
       "      <td>Franklin</td>\n",
       "      <td>NaN</td>\n",
       "      <td>https://pbs.twimg.com/media/DF6hr6BUMAAzZgT.jpg</td>\n",
       "      <td>...</td>\n",
       "      <td>0.555712</td>\n",
       "      <td>True</td>\n",
       "      <td>English springer</td>\n",
       "      <td>0.225770</td>\n",
       "      <td>True</td>\n",
       "      <td>German short-haired pointer</td>\n",
       "      <td>0.175219</td>\n",
       "      <td>True</td>\n",
       "      <td>9774</td>\n",
       "      <td>41048</td>\n",
       "    </tr>\n",
       "  </tbody>\n",
       "</table>\n",
       "<p>5 rows × 22 columns</p>\n",
       "</div>"
      ],
      "text/plain": [
       "             tweet_id                  timestamp              source  \\\n",
       "0  892420643555336193  2017-08-01 16:23:56+00:00  Twitter for iPhone   \n",
       "1  892177421306343426  2017-08-01 00:17:27+00:00  Twitter for iPhone   \n",
       "2  891815181378084864  2017-07-31 00:18:03+00:00  Twitter for iPhone   \n",
       "3  891689557279858688  2017-07-30 15:58:51+00:00  Twitter for iPhone   \n",
       "4  891327558926688256  2017-07-29 16:00:24+00:00  Twitter for iPhone   \n",
       "\n",
       "                                                text  \\\n",
       "0  This is Phineas. He's a mystical boy. Only eve...   \n",
       "1  This is Tilly. She's just checking pup on you....   \n",
       "2  This is Archie. He is a rare Norwegian Pouncin...   \n",
       "3  This is Darla. She commenced a snooze mid meal...   \n",
       "4  This is Franklin. He would like you to stop ca...   \n",
       "\n",
       "                                       expanded_urls  rating_numerator  \\\n",
       "0  https://twitter.com/dog_rates/status/892420643...                13   \n",
       "1  https://twitter.com/dog_rates/status/892177421...                13   \n",
       "2  https://twitter.com/dog_rates/status/891815181...                12   \n",
       "3  https://twitter.com/dog_rates/status/891689557...                13   \n",
       "4  https://twitter.com/dog_rates/status/891327558...                12   \n",
       "\n",
       "   rating_denominator      name types  \\\n",
       "0                  10   Phineas   NaN   \n",
       "1                  10     Tilly   NaN   \n",
       "2                  10    Archie   NaN   \n",
       "3                  10     Darla   NaN   \n",
       "4                  10  Franklin   NaN   \n",
       "\n",
       "                                           jpg_url  ...   p1_conf p1_dog  \\\n",
       "0  https://pbs.twimg.com/media/DGKD1-bXoAAIAUK.jpg  ...  0.097049  False   \n",
       "1  https://pbs.twimg.com/media/DGGmoV4XsAAUL6n.jpg  ...  0.323581   True   \n",
       "2  https://pbs.twimg.com/media/DGBdLU1WsAANxJ9.jpg  ...  0.716012   True   \n",
       "3  https://pbs.twimg.com/media/DF_q7IAWsAEuuN8.jpg  ...  0.170278  False   \n",
       "4  https://pbs.twimg.com/media/DF6hr6BUMAAzZgT.jpg  ...  0.555712   True   \n",
       "\n",
       "                   p2   p2_conf p2_dog                           p3   p3_conf  \\\n",
       "0               bagel  0.085851  False                       banana  0.076110   \n",
       "1            Pekinese  0.090647   True                     papillon  0.068957   \n",
       "2            malamute  0.078253   True                       kelpie  0.031379   \n",
       "3  Labrador retriever  0.168086   True                      spatula  0.040836   \n",
       "4    English springer  0.225770   True  German short-haired pointer  0.175219   \n",
       "\n",
       "  p3_dog  retweet_count  favorite_count  \n",
       "0  False           8853           39467  \n",
       "1   True           6514           33819  \n",
       "2   True           4328           25461  \n",
       "3  False           8964           42908  \n",
       "4   True           9774           41048  \n",
       "\n",
       "[5 rows x 22 columns]"
      ]
     },
     "execution_count": 68,
     "metadata": {},
     "output_type": "execute_result"
    }
   ],
   "source": [
    "twitter_archive_master.head()"
   ]
  },
  {
   "cell_type": "markdown",
   "id": "881ccc1d",
   "metadata": {},
   "source": [
    "### What is the popular source used?"
   ]
  },
  {
   "cell_type": "markdown",
   "id": "16b4be58",
   "metadata": {},
   "source": [
    "Twitter for IPhone is the most popular source"
   ]
  },
  {
   "cell_type": "code",
   "execution_count": 69,
   "id": "23b34650",
   "metadata": {
    "scrolled": true
   },
   "outputs": [
    {
     "data": {
      "image/png": "[encoded data removed]",
      "text/plain": [
       "<Figure size 432x288 with 1 Axes>"
      ]
     },
     "metadata": {
      "needs_background": "light"
     },
     "output_type": "display_data"
    }
   ],
   "source": [
    "p = sns.countplot(data=twitter_archive_master, x='source', color = \"Blue\")\n",
    "p.figure.suptitle('Tweet sources');"
   ]
  },
  {
   "cell_type": "markdown",
   "id": "31d899a8",
   "metadata": {},
   "source": [
    "### What are the top 5 popular dog names?"
   ]
  },
  {
   "cell_type": "markdown",
   "id": "85b3e1ac",
   "metadata": {},
   "source": [
    "The top five names are Cooper, Lucy, Penny, Tucker, and Oliver"
   ]
  },
  {
   "cell_type": "code",
   "execution_count": 70,
   "id": "66e828cc",
   "metadata": {},
   "outputs": [
    {
     "data": {
      "image/png": "[encoded data removed]",
      "text/plain": [
       "<Figure size 432x288 with 1 Axes>"
      ]
     },
     "metadata": {
      "needs_background": "light"
     },
     "output_type": "display_data"
    }
   ],
   "source": [
    "p = sns.countplot(data=twitter_archive_master, x='name', color = \"Blue\",\n",
    "                  order=twitter_archive_master['name'].value_counts()[1:6].index)\n",
    "p.figure.suptitle('Dog names');\n"
   ]
  },
  {
   "cell_type": "markdown",
   "id": "0cef5139",
   "metadata": {},
   "source": [
    "### What is the popular dog type?"
   ]
  },
  {
   "cell_type": "markdown",
   "id": "5bb0c21c",
   "metadata": {},
   "source": [
    "According to the count plot the Pupper is the popular dog type"
   ]
  },
  {
   "cell_type": "code",
   "execution_count": 71,
   "id": "4634cc23",
   "metadata": {},
   "outputs": [
    {
     "data": {
      "text/plain": [
       "Index(['tweet_id', 'timestamp', 'source', 'text', 'expanded_urls',\n",
       "       'rating_numerator', 'rating_denominator', 'name', 'types', 'jpg_url',\n",
       "       'img_num', 'p1', 'p1_conf', 'p1_dog', 'p2', 'p2_conf', 'p2_dog', 'p3',\n",
       "       'p3_conf', 'p3_dog', 'retweet_count', 'favorite_count'],\n",
       "      dtype='object')"
      ]
     },
     "execution_count": 71,
     "metadata": {},
     "output_type": "execute_result"
    }
   ],
   "source": [
    "twitter_archive_master.columns"
   ]
  },
  {
   "cell_type": "code",
   "execution_count": 72,
   "id": "6da45560",
   "metadata": {
    "scrolled": false
   },
   "outputs": [
    {
     "data": {
      "image/png": "[encoded data removed]",
      "text/plain": [
       "<Figure size 432x288 with 1 Axes>"
      ]
     },
     "metadata": {
      "needs_background": "light"
     },
     "output_type": "display_data"
    }
   ],
   "source": [
    "p = sns.countplot(data=twitter_archive_master, x='types', color = \"Blue\",\n",
    "                  order=twitter_archive_master['types'].value_counts().index)\n",
    "p.figure.suptitle('Dog types');"
   ]
  },
  {
   "cell_type": "markdown",
   "id": "48793ff3",
   "metadata": {},
   "source": [
    "### What are the high and low ratings?"
   ]
  },
  {
   "cell_type": "markdown",
   "id": "a4960bb2",
   "metadata": {},
   "source": [
    "highst rating is 13 (total = 176), and lowest rating is 8 (total = 72)"
   ]
  },
  {
   "cell_type": "code",
   "execution_count": 73,
   "id": "eae14a38",
   "metadata": {},
   "outputs": [
    {
     "data": {
      "text/plain": [
       "12    332\n",
       "11    302\n",
       "10    275\n",
       "13    176\n",
       "9     103\n",
       "8      72\n",
       "14     19\n",
       "Name: rating_numerator, dtype: int64"
      ]
     },
     "execution_count": 73,
     "metadata": {},
     "output_type": "execute_result"
    }
   ],
   "source": [
    "twitter_archive_master['rating_numerator'].value_counts()"
   ]
  },
  {
   "cell_type": "code",
   "execution_count": 74,
   "id": "f3addc83",
   "metadata": {},
   "outputs": [
    {
     "data": {
      "text/plain": [
       "11.034401876465989"
      ]
     },
     "execution_count": 74,
     "metadata": {},
     "output_type": "execute_result"
    }
   ],
   "source": [
    "twitter_archive_master['rating_numerator'].mean()"
   ]
  },
  {
   "cell_type": "code",
   "execution_count": 75,
   "id": "e3c40009",
   "metadata": {},
   "outputs": [
    {
     "data": {
      "image/png": "[encoded data removed]",
      "text/plain": [
       "<Figure size 432x288 with 1 Axes>"
      ]
     },
     "metadata": {
      "needs_background": "light"
     },
     "output_type": "display_data"
    }
   ],
   "source": [
    "p = sns.countplot(data=twitter_archive_master, x='rating_numerator', color = \"Blue\")\n",
    "p.figure.suptitle('Rating');"
   ]
  },
  {
   "cell_type": "markdown",
   "id": "bb7027dc",
   "metadata": {},
   "source": [
    "### What is the relation between favorite and retweet?"
   ]
  },
  {
   "cell_type": "markdown",
   "id": "01c36f94",
   "metadata": {},
   "source": [
    "Strong positive correlation between favorit count and retweet count"
   ]
  },
  {
   "cell_type": "code",
   "execution_count": 76,
   "id": "5bd1aa33",
   "metadata": {},
   "outputs": [
    {
     "data": {
      "text/plain": [
       "0.9217200647889134"
      ]
     },
     "execution_count": 76,
     "metadata": {},
     "output_type": "execute_result"
    }
   ],
   "source": [
    "twitter_archive_master['favorite_count'].corr(twitter_archive_master['retweet_count'])"
   ]
  },
  {
   "cell_type": "markdown",
   "id": "a1e0e18f",
   "metadata": {},
   "source": [
    "Positively skewed distribution, the data for both are clustered on the left"
   ]
  },
  {
   "cell_type": "code",
   "execution_count": 77,
   "id": "55fe0c3a",
   "metadata": {
    "scrolled": true
   },
   "outputs": [
    {
     "data": {
      "text/plain": [
       "Text(0.5, 1.0, 'Retweet and Favorite Count')"
      ]
     },
     "execution_count": 77,
     "metadata": {},
     "output_type": "execute_result"
    },
    {
     "data": {
      "image/png": "[encoded data removed]",
      "text/plain": [
       "<Figure size 720x360 with 1 Axes>"
      ]
     },
     "metadata": {
      "needs_background": "light"
     },
     "output_type": "display_data"
    }
   ],
   "source": [
    "plt.figure(figsize=(10,5))\n",
    "\n",
    "plt.hist([twitter_archive_master.retweet_count, twitter_archive_master.favorite_count], \n",
    "         color= ['blue', 'green'], label= ['retweet_count', 'favorite_count'])\n",
    "\n",
    "plt.legend(loc='upper right', fontsize = 10)\n",
    "plt.title('Retweet and Favorite Count', size = 15)"
   ]
  }
 ],
 "metadata": {
  "kernelspec": {
   "display_name": "Python 3 (ipykernel)",
   "language": "python",
   "name": "python3"
  },
  "language_info": {
   "codemirror_mode": {
    "name": "ipython",
    "version": 3
   },
   "file_extension": ".py",
   "mimetype": "text/x-python",
   "name": "python",
   "nbconvert_exporter": "python",
   "pygments_lexer": "ipython3",
   "version": "3.9.12"
  },
  "toc": {
   "base_numbering": 1,
   "nav_menu": {},
   "number_sections": false,
   "sideBar": true,
   "skip_h1_title": true,
   "title_cell": "Table of Contents",
   "title_sidebar": "Contents",
   "toc_cell": false,
   "toc_position": {
    "height": "564.6px",
    "left": "798px",
    "top": "188.2px",
    "width": "406.55px"
   },
   "toc_section_display": true,
   "toc_window_display": false
  }
 },
 "nbformat": 4,
 "nbformat_minor": 5
}
